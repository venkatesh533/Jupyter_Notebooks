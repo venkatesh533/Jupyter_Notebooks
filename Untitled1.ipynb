{
 "cells": [
  {
   "cell_type": "code",
   "execution_count": 20,
   "id": "1a5204da-1fe0-4f13-a936-83a4b0140665",
   "metadata": {},
   "outputs": [],
   "source": [
    "from pyspark.sql import SparkSession\n",
    "spark = SparkSession.builder.getOrCreate()"
   ]
  },
  {
   "cell_type": "code",
   "execution_count": 21,
   "id": "67e5d109-e12e-417e-992c-a431245d29a8",
   "metadata": {},
   "outputs": [
    {
     "data": {
      "text/plain": [
       "10000"
      ]
     },
     "execution_count": 21,
     "metadata": {},
     "output_type": "execute_result"
    }
   ],
   "source": [
    "all_df = spark.read.csv('nestle_input_data.csv', header=True)\n",
    "all_df.count()"
   ]
  },
  {
   "cell_type": "code",
   "execution_count": 23,
   "id": "38175101-3c08-4532-9eb5-fbdc3d67a8d7",
   "metadata": {},
   "outputs": [],
   "source": [
    "large_df = all_df.filter((all_df['SubChannelDesc'] == '01.Large Provision'))\n",
    "all_df = all_df.filter((all_df['SubChannelDesc'] != '01.Large Provision'))"
   ]
  },
  {
   "cell_type": "code",
   "execution_count": 24,
   "id": "24e4a6d1-fcaa-461f-ab08-bbcc5f3b3e4f",
   "metadata": {},
   "outputs": [
    {
     "data": {
      "text/plain": [
       "706"
      ]
     },
     "execution_count": 24,
     "metadata": {},
     "output_type": "execute_result"
    }
   ],
   "source": [
    "large_df.count()"
   ]
  },
  {
   "cell_type": "code",
   "execution_count": 25,
   "id": "7bb378fc-f176-4086-91c5-1b59122a0e29",
   "metadata": {},
   "outputs": [
    {
     "data": {
      "text/plain": [
       "9294"
      ]
     },
     "execution_count": 25,
     "metadata": {},
     "output_type": "execute_result"
    }
   ],
   "source": [
    "all_df.count()"
   ]
  },
  {
   "cell_type": "code",
   "execution_count": 26,
   "id": "80ed557a-d87b-45d4-bd4a-4c00fcc6905d",
   "metadata": {},
   "outputs": [
    {
     "data": {
      "text/plain": [
       "10000"
      ]
     },
     "execution_count": 26,
     "metadata": {},
     "output_type": "execute_result"
    }
   ],
   "source": [
    "9294+706"
   ]
  },
  {
   "cell_type": "code",
   "execution_count": 27,
   "id": "3c288096-9520-4e34-a674-f66f2284fe19",
   "metadata": {},
   "outputs": [
    {
     "data": {
      "text/plain": [
       "9294"
      ]
     },
     "execution_count": 27,
     "metadata": {},
     "output_type": "execute_result"
    }
   ],
   "source": [
    "all_df.count()"
   ]
  },
  {
   "cell_type": "code",
   "execution_count": null,
   "id": "37463b05-454d-4d77-8dbe-7c55d75a4ba7",
   "metadata": {},
   "outputs": [],
   "source": []
  }
 ],
 "metadata": {
  "kernelspec": {
   "display_name": "Python 3 (ipykernel)",
   "language": "python",
   "name": "python3"
  },
  "language_info": {
   "codemirror_mode": {
    "name": "ipython",
    "version": 3
   },
   "file_extension": ".py",
   "mimetype": "text/x-python",
   "name": "python",
   "nbconvert_exporter": "python",
   "pygments_lexer": "ipython3",
   "version": "3.9.16"
  }
 },
 "nbformat": 4,
 "nbformat_minor": 5
}
