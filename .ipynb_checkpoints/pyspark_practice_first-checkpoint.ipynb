{
 "cells": [
  {
   "cell_type": "code",
   "execution_count": 1,
   "id": "451cc2ed-c400-42aa-b31d-c31fe11ee3e5",
   "metadata": {},
   "outputs": [
    {
     "name": "stdout",
     "output_type": "stream",
     "text": [
      "24/01/29 12:34:02 WARN Utils: Your hostname, venkatesh-VirtualBox resolves to a loopback address: 127.0.1.1; using 10.0.2.15 instead (on interface enp0s3)\n",
      "24/01/29 12:34:02 WARN Utils: Set SPARK_LOCAL_IP if you need to bind to another address\n"
     ]
    },
    {
     "name": "stderr",
     "output_type": "stream",
     "text": [
      "Setting default log level to \"WARN\".\n",
      "To adjust logging level use sc.setLogLevel(newLevel). For SparkR, use setLogLevel(newLevel).\n"
     ]
    },
    {
     "name": "stdout",
     "output_type": "stream",
     "text": [
      "24/01/29 12:34:07 WARN NativeCodeLoader: Unable to load native-hadoop library for your platform... using builtin-java classes where applicable\n"
     ]
    }
   ],
   "source": [
    "from pyspark.sql import SparkSession\n",
    "spark = SparkSession.builder.appName('practice').getOrCreate()"
   ]
  },
  {
   "cell_type": "code",
   "execution_count": 2,
   "id": "96a4d8ef-cac5-4466-a0f7-c9e8ba4ab207",
   "metadata": {},
   "outputs": [
    {
     "data": {
      "text/html": [
       "\n",
       "            <div>\n",
       "                <p><b>SparkSession - in-memory</b></p>\n",
       "                \n",
       "        <div>\n",
       "            <p><b>SparkContext</b></p>\n",
       "\n",
       "            <p><a href=\"http://10.0.2.15:4040\">Spark UI</a></p>\n",
       "\n",
       "            <dl>\n",
       "              <dt>Version</dt>\n",
       "                <dd><code>v3.3.2</code></dd>\n",
       "              <dt>Master</dt>\n",
       "                <dd><code>local[*]</code></dd>\n",
       "              <dt>AppName</dt>\n",
       "                <dd><code>practice</code></dd>\n",
       "            </dl>\n",
       "        </div>\n",
       "        \n",
       "            </div>\n",
       "        "
      ],
      "text/plain": [
       "<pyspark.sql.session.SparkSession at 0x7fc45ca9ba00>"
      ]
     },
     "execution_count": 2,
     "metadata": {},
     "output_type": "execute_result"
    }
   ],
   "source": [
    "spark"
   ]
  },
  {
   "cell_type": "code",
   "execution_count": 3,
   "id": "7da72c26-4a82-4a0c-b92e-8d35a1a7da2a",
   "metadata": {},
   "outputs": [
    {
     "data": {
      "text/plain": [
       "'3.3.2'"
      ]
     },
     "execution_count": 3,
     "metadata": {},
     "output_type": "execute_result"
    }
   ],
   "source": [
    "spark.version"
   ]
  },
  {
   "cell_type": "code",
   "execution_count": 4,
   "id": "23fcd3da-c26d-45d3-9a71-79382b44a05f",
   "metadata": {},
   "outputs": [
    {
     "name": "stderr",
     "output_type": "stream",
     "text": [
      "                                                                                \r"
     ]
    },
    {
     "name": "stdout",
     "output_type": "stream",
     "text": [
      "+-------+-------+------+---+\n",
      "|roll_no|   name|gender|age|\n",
      "+-------+-------+------+---+\n",
      "|      1| Aditya|  Male| 23|\n",
      "|      2| Ananya|Female| 19|\n",
      "|      3|  Arjun|  Male| 21|\n",
      "|      4|Amrutha|Female| 18|\n",
      "|      5| Akhila|Female| 24|\n",
      "|      6|   Ajay|  Male| 20|\n",
      "+-------+-------+------+---+\n",
      "\n"
     ]
    }
   ],
   "source": [
    "spark_csv = spark.read.option('header', True).csv('students.csv')\n",
    "spark_csv.show()"
   ]
  },
  {
   "cell_type": "code",
   "execution_count": 5,
   "id": "b2732ca9-857e-4684-bd4b-24de7b2bd682",
   "metadata": {},
   "outputs": [],
   "source": [
    "type(spark_csv)\n",
    "df = spark_csv"
   ]
  },
  {
   "cell_type": "code",
   "execution_count": 6,
   "id": "4587f6c7-ebb9-4694-83e2-e6bdf4452a63",
   "metadata": {},
   "outputs": [
    {
     "name": "stdout",
     "output_type": "stream",
     "text": [
      "+-------+-------+------+---+\n",
      "|roll_no|   name|gender|age|\n",
      "+-------+-------+------+---+\n",
      "|      1| Aditya|  Male| 23|\n",
      "|      2| Ananya|Female| 19|\n",
      "|      3|  Arjun|  Male| 21|\n",
      "|      4|Amrutha|Female| 18|\n",
      "|      5| Akhila|Female| 24|\n",
      "|      6|   Ajay|  Male| 20|\n",
      "+-------+-------+------+---+\n",
      "\n"
     ]
    }
   ],
   "source": [
    "df.show()"
   ]
  },
  {
   "cell_type": "code",
   "execution_count": 7,
   "id": "22b9af79-661f-4086-9470-49d810fdc4d9",
   "metadata": {},
   "outputs": [
    {
     "name": "stdout",
     "output_type": "stream",
     "text": [
      "+-------+------+------+---+\n",
      "|roll_no|  name|gender|age|\n",
      "+-------+------+------+---+\n",
      "|      1|Aditya|  Male| 23|\n",
      "|      3| Arjun|  Male| 21|\n",
      "|      5|Akhila|Female| 24|\n",
      "+-------+------+------+---+\n",
      "\n"
     ]
    }
   ],
   "source": [
    "df.filter(df.age > 20).show()"
   ]
  },
  {
   "cell_type": "code",
   "execution_count": 8,
   "id": "e75bd3f1-4839-4d80-91f7-9e58dcb04d7f",
   "metadata": {},
   "outputs": [
    {
     "name": "stderr",
     "output_type": "stream",
     "text": [
      "[Stage 4:>                                                          (0 + 1) / 1]\r"
     ]
    },
    {
     "name": "stdout",
     "output_type": "stream",
     "text": [
      "+------+-----+\n",
      "|gender|count|\n",
      "+------+-----+\n",
      "|Female|    3|\n",
      "|  Male|    3|\n",
      "+------+-----+\n",
      "\n"
     ]
    },
    {
     "name": "stderr",
     "output_type": "stream",
     "text": [
      "                                                                                \r"
     ]
    }
   ],
   "source": [
    "df.groupby('gender').count().show()"
   ]
  },
  {
   "cell_type": "code",
   "execution_count": 9,
   "id": "b370c649-bf3c-4aaa-be5f-3c7382abd9ec",
   "metadata": {},
   "outputs": [
    {
     "name": "stdout",
     "output_type": "stream",
     "text": [
      "root\n",
      " |-- roll_no: string (nullable = true)\n",
      " |-- name: string (nullable = true)\n",
      " |-- gender: string (nullable = true)\n",
      " |-- age: string (nullable = true)\n",
      "\n"
     ]
    }
   ],
   "source": [
    "df.printSchema()"
   ]
  },
  {
   "cell_type": "code",
   "execution_count": 10,
   "id": "d3aa243b-2879-4553-8f93-ccf0ca3555c0",
   "metadata": {},
   "outputs": [
    {
     "name": "stdout",
     "output_type": "stream",
     "text": [
      "+-------+\n",
      "|   name|\n",
      "+-------+\n",
      "| Aditya|\n",
      "| Ananya|\n",
      "|  Arjun|\n",
      "|Amrutha|\n",
      "| Akhila|\n",
      "|   Ajay|\n",
      "+-------+\n",
      "\n"
     ]
    }
   ],
   "source": [
    "df.select('name').show()"
   ]
  },
  {
   "cell_type": "code",
   "execution_count": 11,
   "id": "5150426d-8dda-482c-80bd-90fead75dee6",
   "metadata": {},
   "outputs": [
    {
     "name": "stdout",
     "output_type": "stream",
     "text": [
      "+-------+-------+\n",
      "|roll_no|   name|\n",
      "+-------+-------+\n",
      "|      1| Aditya|\n",
      "|      2| Ananya|\n",
      "|      3|  Arjun|\n",
      "|      4|Amrutha|\n",
      "|      5| Akhila|\n",
      "|      6|   Ajay|\n",
      "+-------+-------+\n",
      "\n"
     ]
    }
   ],
   "source": [
    "df.select(['roll_no','name']).show()"
   ]
  },
  {
   "cell_type": "code",
   "execution_count": 12,
   "id": "2f881d11-81c4-4390-9554-23407ca845a0",
   "metadata": {},
   "outputs": [
    {
     "data": {
      "text/plain": [
       "[('roll_no', 'string'),\n",
       " ('name', 'string'),\n",
       " ('gender', 'string'),\n",
       " ('age', 'string')]"
      ]
     },
     "execution_count": 12,
     "metadata": {},
     "output_type": "execute_result"
    }
   ],
   "source": [
    "df.dtypes"
   ]
  },
  {
   "cell_type": "code",
   "execution_count": 13,
   "id": "98a9aa19-10f4-422b-95b4-3844cec837ab",
   "metadata": {},
   "outputs": [
    {
     "name": "stderr",
     "output_type": "stream",
     "text": [
      "                                                                                \r"
     ]
    },
    {
     "data": {
      "text/plain": [
       "DataFrame[summary: string, roll_no: string, name: string, gender: string, age: string]"
      ]
     },
     "execution_count": 13,
     "metadata": {},
     "output_type": "execute_result"
    }
   ],
   "source": [
    "df.describe()"
   ]
  },
  {
   "cell_type": "code",
   "execution_count": 14,
   "id": "76eddc65-eb5d-4374-939a-30c21e936541",
   "metadata": {},
   "outputs": [
    {
     "name": "stdout",
     "output_type": "stream",
     "text": [
      "+-------+------------------+------+------+------------------+\n",
      "|summary|           roll_no|  name|gender|               age|\n",
      "+-------+------------------+------+------+------------------+\n",
      "|  count|                 6|     6|     6|                 6|\n",
      "|   mean|               3.5|  null|  null|20.833333333333332|\n",
      "| stddev|1.8708286933869707|  null|  null|2.3166067138525404|\n",
      "|    min|                 1|Aditya|Female|                18|\n",
      "|    max|                 6| Arjun|  Male|                24|\n",
      "+-------+------------------+------+------+------------------+\n",
      "\n"
     ]
    }
   ],
   "source": [
    "df.describe().show()"
   ]
  },
  {
   "cell_type": "code",
   "execution_count": 15,
   "id": "295280bc-36df-48ff-9c0c-3e465af7b77b",
   "metadata": {},
   "outputs": [],
   "source": [
    "#Adding a column to dataframe\n",
    "df = df.withColumn('Marks', df['roll_no']+10)"
   ]
  },
  {
   "cell_type": "code",
   "execution_count": 16,
   "id": "165127a8-8fdf-4b80-972e-61ca43cc8593",
   "metadata": {},
   "outputs": [
    {
     "name": "stdout",
     "output_type": "stream",
     "text": [
      "+-------+-------+------+---+-----+\n",
      "|roll_no|   name|gender|age|Marks|\n",
      "+-------+-------+------+---+-----+\n",
      "|      1| Aditya|  Male| 23| 11.0|\n",
      "|      2| Ananya|Female| 19| 12.0|\n",
      "|      3|  Arjun|  Male| 21| 13.0|\n",
      "|      4|Amrutha|Female| 18| 14.0|\n",
      "|      5| Akhila|Female| 24| 15.0|\n",
      "|      6|   Ajay|  Male| 20| 16.0|\n",
      "+-------+-------+------+---+-----+\n",
      "\n"
     ]
    }
   ],
   "source": [
    "df.show()"
   ]
  },
  {
   "cell_type": "code",
   "execution_count": 17,
   "id": "d19f9d54-00bc-48af-98ea-9c40528f3be2",
   "metadata": {},
   "outputs": [
    {
     "name": "stdout",
     "output_type": "stream",
     "text": [
      "+-------+-------+------+---+\n",
      "|roll_no|   name|gender|age|\n",
      "+-------+-------+------+---+\n",
      "|      1| Aditya|  Male| 23|\n",
      "|      2| Ananya|Female| 19|\n",
      "|      3|  Arjun|  Male| 21|\n",
      "|      4|Amrutha|Female| 18|\n",
      "|      5| Akhila|Female| 24|\n",
      "|      6|   Ajay|  Male| 20|\n",
      "+-------+-------+------+---+\n",
      "\n"
     ]
    }
   ],
   "source": [
    "#delete a column from dataframe\n",
    "df = df.drop('Marks').show()"
   ]
  },
  {
   "cell_type": "markdown",
   "id": "c37e6500-c992-499e-ada8-80249e4b8aa5",
   "metadata": {},
   "source": [
    "# Aggregate"
   ]
  },
  {
   "cell_type": "code",
   "execution_count": 20,
   "id": "ce82f251-9c9f-4744-88fa-05adb410c80f",
   "metadata": {},
   "outputs": [
    {
     "name": "stdout",
     "output_type": "stream",
     "text": [
      "+-------+-------+------+---+\n",
      "|roll_no|   name|gender|age|\n",
      "+-------+-------+------+---+\n",
      "|      1| Aditya|  Male| 23|\n",
      "|      2| Ananya|Female| 19|\n",
      "|      3|  Arjun|  Male| 21|\n",
      "|      4|Amrutha|Female| 18|\n",
      "|      5| Akhila|Female| 24|\n",
      "|      6|   Ajay|  Male| 20|\n",
      "+-------+-------+------+---+\n",
      "\n"
     ]
    }
   ],
   "source": [
    "df = spark.read.option('header', True).csv('students.csv')\n",
    "df.show()"
   ]
  },
  {
   "cell_type": "code",
   "execution_count": 22,
   "id": "7a5e209d-a1da-4981-adb3-bf3cf4092164",
   "metadata": {},
   "outputs": [
    {
     "name": "stdout",
     "output_type": "stream",
     "text": [
      "+--------+\n",
      "|max(age)|\n",
      "+--------+\n",
      "|      24|\n",
      "+--------+\n",
      "\n"
     ]
    }
   ],
   "source": [
    "df.agg({'age': 'max'}).show()"
   ]
  },
  {
   "cell_type": "code",
   "execution_count": 23,
   "id": "9ea75645-f3c6-4093-8492-fba3c806c0a5",
   "metadata": {},
   "outputs": [
    {
     "name": "stdout",
     "output_type": "stream",
     "text": [
      "+--------+\n",
      "|sum(age)|\n",
      "+--------+\n",
      "|   125.0|\n",
      "+--------+\n",
      "\n"
     ]
    }
   ],
   "source": [
    "df.agg({'age': 'sum'}).show()"
   ]
  },
  {
   "cell_type": "code",
   "execution_count": 24,
   "id": "4b4cbedc-188b-42e8-bb1c-07df65be4608",
   "metadata": {},
   "outputs": [
    {
     "name": "stdout",
     "output_type": "stream",
     "text": [
      "+-------+-------+------+---+\n",
      "|roll_no|   name|gender|age|\n",
      "+-------+-------+------+---+\n",
      "|      4|Amrutha|Female| 18|\n",
      "|      2| Ananya|Female| 19|\n",
      "|      6|   Ajay|  Male| 20|\n",
      "|      3|  Arjun|  Male| 21|\n",
      "|      1| Aditya|  Male| 23|\n",
      "|      5| Akhila|Female| 24|\n",
      "+-------+-------+------+---+\n",
      "\n"
     ]
    }
   ],
   "source": [
    "# Displaying records by a column in ascending/descending order\n",
    "df.orderBy('age').show()"
   ]
  },
  {
   "cell_type": "code",
   "execution_count": 25,
   "id": "9a2d0a52-a6a5-46af-91c6-3ddc41a8fedb",
   "metadata": {},
   "outputs": [
    {
     "name": "stdout",
     "output_type": "stream",
     "text": [
      "+-------+-------+------+---+\n",
      "|roll_no|   name|gender|age|\n",
      "+-------+-------+------+---+\n",
      "|      5| Akhila|Female| 24|\n",
      "|      1| Aditya|  Male| 23|\n",
      "|      3|  Arjun|  Male| 21|\n",
      "|      6|   Ajay|  Male| 20|\n",
      "|      2| Ananya|Female| 19|\n",
      "|      4|Amrutha|Female| 18|\n",
      "+-------+-------+------+---+\n",
      "\n"
     ]
    }
   ],
   "source": [
    "df.orderBy(df['age'].desc()).show()"
   ]
  },
  {
   "cell_type": "code",
   "execution_count": 27,
   "id": "8f7da70d-30db-498e-802f-d283d563dd67",
   "metadata": {},
   "outputs": [
    {
     "name": "stdout",
     "output_type": "stream",
     "text": [
      "root\n",
      " |-- roll_no: string (nullable = true)\n",
      " |-- name: string (nullable = true)\n",
      " |-- gender: string (nullable = true)\n",
      " |-- age: string (nullable = true)\n",
      "\n"
     ]
    }
   ],
   "source": [
    "df.printSchema()"
   ]
  },
  {
   "cell_type": "code",
   "execution_count": 28,
   "id": "422ceccc-adb9-49ff-9573-9385d619bcb7",
   "metadata": {},
   "outputs": [
    {
     "name": "stdout",
     "output_type": "stream",
     "text": [
      "+-------+-------+------+---+\n",
      "|roll_no|   name|gender|age|\n",
      "+-------+-------+------+---+\n",
      "|      1| Aditya|  Male| 23|\n",
      "|      2| Ananya|Female| 19|\n",
      "|      3|  Arjun|  Male| 21|\n",
      "|      4|Amrutha|Female| 18|\n",
      "|      5| Akhila|Female| 24|\n",
      "|      6|   Ajay|  Male| 20|\n",
      "+-------+-------+------+---+\n",
      "\n"
     ]
    }
   ],
   "source": [
    "df.select('*').show()"
   ]
  },
  {
   "cell_type": "code",
   "execution_count": 29,
   "id": "41fc22eb-caf3-4753-af05-8fa8828e0baa",
   "metadata": {},
   "outputs": [
    {
     "name": "stderr",
     "output_type": "stream",
     "text": [
      "[Stage 28:>                                                         (0 + 1) / 1]\r"
     ]
    },
    {
     "name": "stdout",
     "output_type": "stream",
     "text": [
      "+-------+------------------+------+------+------------------+\n",
      "|summary|           roll_no|  name|gender|               age|\n",
      "+-------+------------------+------+------+------------------+\n",
      "|  count|                 6|     6|     6|                 6|\n",
      "|   mean|               3.5|  null|  null|20.833333333333332|\n",
      "| stddev|1.8708286933869707|  null|  null|2.3166067138525404|\n",
      "|    min|                 1|Aditya|Female|                18|\n",
      "|    max|                 6| Arjun|  Male|                24|\n",
      "+-------+------------------+------+------+------------------+\n",
      "\n"
     ]
    },
    {
     "name": "stderr",
     "output_type": "stream",
     "text": [
      "                                                                                \r"
     ]
    }
   ],
   "source": [
    "#show summary of the dataframe\n",
    "df.select('*').describe().show()"
   ]
  },
  {
   "cell_type": "code",
   "execution_count": 31,
   "id": "cda94535-9ed3-4171-8012-519023b0ce6d",
   "metadata": {},
   "outputs": [
    {
     "name": "stdout",
     "output_type": "stream",
     "text": [
      "+-------+-------+------+---+\n",
      "|roll_no|   name|gender|age|\n",
      "+-------+-------+------+---+\n",
      "|      1| Aditya|  Male| 23|\n",
      "|      2| Ananya|Female| 19|\n",
      "|      3|  Arjun|  Male| 21|\n",
      "|      4|Amrutha|Female| 18|\n",
      "|      5| Akhila|Female| 24|\n",
      "|      6|   Ajay|  Male| 20|\n",
      "+-------+-------+------+---+\n",
      "\n"
     ]
    }
   ],
   "source": [
    "df.createOrReplaceTempView('students')\n",
    "spark.sql('select * from students').show()"
   ]
  },
  {
   "cell_type": "code",
   "execution_count": null,
   "id": "e358c357-c7cc-4507-84c4-1505f71c3259",
   "metadata": {},
   "outputs": [],
   "source": []
  }
 ],
 "metadata": {
  "kernelspec": {
   "display_name": "Python 3 (ipykernel)",
   "language": "python",
   "name": "python3"
  },
  "language_info": {
   "codemirror_mode": {
    "name": "ipython",
    "version": 3
   },
   "file_extension": ".py",
   "mimetype": "text/x-python",
   "name": "python",
   "nbconvert_exporter": "python",
   "pygments_lexer": "ipython3",
   "version": "3.9.16"
  }
 },
 "nbformat": 4,
 "nbformat_minor": 5
}
