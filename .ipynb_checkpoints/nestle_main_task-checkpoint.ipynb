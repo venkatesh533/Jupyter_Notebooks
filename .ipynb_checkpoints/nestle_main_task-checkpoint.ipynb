{
 "cells": [
  {
   "cell_type": "code",
   "execution_count": 1,
   "id": "e2165f18-00a6-401f-8c7f-0f67caf61fda",
   "metadata": {},
   "outputs": [
    {
     "name": "stdout",
     "output_type": "stream",
     "text": [
      "24/01/31 20:16:06 WARN Utils: Your hostname, venkatesh-VirtualBox resolves to a loopback address: 127.0.1.1; using 10.0.2.15 instead (on interface enp0s3)\n",
      "24/01/31 20:16:06 WARN Utils: Set SPARK_LOCAL_IP if you need to bind to another address\n"
     ]
    },
    {
     "name": "stderr",
     "output_type": "stream",
     "text": [
      "Setting default log level to \"WARN\".\n",
      "To adjust logging level use sc.setLogLevel(newLevel). For SparkR, use setLogLevel(newLevel).\n"
     ]
    },
    {
     "name": "stdout",
     "output_type": "stream",
     "text": [
      "24/01/31 20:16:09 WARN NativeCodeLoader: Unable to load native-hadoop library for your platform... using builtin-java classes where applicable\n",
      "24/01/31 20:16:12 WARN Utils: Service 'SparkUI' could not bind on port 4040. Attempting port 4041.\n"
     ]
    }
   ],
   "source": [
    "from pyspark.sql import SparkSession\n",
    "spark = SparkSession.builder.appName('nestle_tasks').getOrCreate()"
   ]
  },
  {
   "cell_type": "code",
   "execution_count": 2,
   "id": "c9e5cb60-2c3b-418c-a6a9-2be3ba83d9d0",
   "metadata": {},
   "outputs": [
    {
     "name": "stderr",
     "output_type": "stream",
     "text": [
      "                                                                                \r"
     ]
    }
   ],
   "source": [
    "df = spark.read.csv('nestle_data.csv', header=True)"
   ]
  },
  {
   "cell_type": "code",
   "execution_count": 3,
   "id": "177eb545-c4b7-4f29-9a37-2f0d9b63ae23",
   "metadata": {},
   "outputs": [
    {
     "name": "stderr",
     "output_type": "stream",
     "text": [
      "                                                                                \r"
     ]
    },
    {
     "data": {
      "text/plain": [
       "10000"
      ]
     },
     "execution_count": 3,
     "metadata": {},
     "output_type": "execute_result"
    }
   ],
   "source": [
    "df.count()"
   ]
  },
  {
   "cell_type": "code",
   "execution_count": 4,
   "id": "488fcb6c-ba0b-4ea8-9e3d-6152ccbb7452",
   "metadata": {},
   "outputs": [],
   "source": [
    "df_large = df.filter((df['SubChannelDesc']=='01.Large Provision')&(df['Final_Rank']<=8)).filter((df['SKUDesc'].startswith('milo_'))|df['SKUDesc'].startswith('maggi_')|df['SKUDesc'].startswith('ncf_')).select(['SKUDesc','ProvinceCode','SubChannelDesc','Final_Rank'])"
   ]
  },
  {
   "cell_type": "code",
   "execution_count": 5,
   "id": "c2693549-09be-4072-b25b-f1817c6d4f35",
   "metadata": {},
   "outputs": [
    {
     "name": "stderr",
     "output_type": "stream",
     "text": [
      "                                                                                \r"
     ]
    },
    {
     "data": {
      "text/plain": [
       "2110"
      ]
     },
     "execution_count": 5,
     "metadata": {},
     "output_type": "execute_result"
    }
   ],
   "source": [
    "df.filter(df['SKUDesc'].startswith('milo_')).count()"
   ]
  },
  {
   "cell_type": "code",
   "execution_count": 6,
   "id": "f7d5293d-50e1-4831-b204-b1cd47ddb50d",
   "metadata": {},
   "outputs": [
    {
     "name": "stderr",
     "output_type": "stream",
     "text": [
      "                                                                                \r"
     ]
    },
    {
     "name": "stdout",
     "output_type": "stream",
     "text": [
      "+--------------------+------------+------------------+----------+\n",
      "|             SKUDesc|ProvinceCode|    SubChannelDesc|Final_Rank|\n",
      "+--------------------+------------+------------------+----------+\n",
      "|      milo_uht_180ml|           3|01.Large Provision|         1|\n",
      "|milo_uhtlesssugar...|           3|01.Large Provision|         2|\n",
      "|      milo_uht_115ml|           3|01.Large Provision|         3|\n",
      "| maggi_l_oyster_350g|           3|01.Large Provision|         4|\n",
      "| maggi_l_oyster_820g|           3|01.Large Provision|         5|\n",
      "|   milo_reg_jar_400g|           3|01.Large Provision|         6|\n",
      "|   ncf_3in1_strsib20|           3|01.Large Provision|         8|\n",
      "|      milo_uht_180ml|           4|01.Large Provision|         1|\n",
      "|      milo_uht_115ml|           4|01.Large Provision|         2|\n",
      "|milo_uhtlesssugar...|           4|01.Large Provision|         3|\n",
      "| maggi_l_oyster_820g|           4|01.Large Provision|         4|\n",
      "| maggi_l_oyster_350g|           4|01.Large Provision|         5|\n",
      "|   milo_reg_jar_400g|           4|01.Large Provision|         6|\n",
      "|       milo_3in1_sic|           4|01.Large Provision|         7|\n",
      "|      milo_uht_180ml|           6|01.Large Provision|         1|\n",
      "|      milo_uht_115ml|           6|01.Large Provision|         2|\n",
      "|milo_uhtlesssugar...|           6|01.Large Provision|         3|\n",
      "| maggi_l_oyster_820g|           6|01.Large Provision|         5|\n",
      "| maggi_l_oyster_350g|           6|01.Large Provision|         6|\n",
      "|   milo_rtdtin_240ml|           6|01.Large Provision|         7|\n",
      "+--------------------+------------+------------------+----------+\n",
      "only showing top 20 rows\n",
      "\n"
     ]
    }
   ],
   "source": [
    "df_large.show()"
   ]
  },
  {
   "cell_type": "code",
   "execution_count": 7,
   "id": "c1b00c71-3ae6-402d-8004-17d0ba8e2820",
   "metadata": {},
   "outputs": [
    {
     "name": "stderr",
     "output_type": "stream",
     "text": [
      "                                                                                \r"
     ]
    },
    {
     "data": {
      "text/plain": [
       "107"
      ]
     },
     "execution_count": 7,
     "metadata": {},
     "output_type": "execute_result"
    }
   ],
   "source": [
    "df_large.count()"
   ]
  },
  {
   "cell_type": "code",
   "execution_count": 8,
   "id": "20c36982-4b78-4acc-99c2-a8e08f57dfb9",
   "metadata": {},
   "outputs": [],
   "source": [
    "df_large = df.filter((df['SubChannelDesc']=='01.Large Provision')&(df['Final_Rank']<=8))"
   ]
  },
  {
   "cell_type": "code",
   "execution_count": 9,
   "id": "62efca64-18bf-47e2-8a6b-19c74741a5a3",
   "metadata": {},
   "outputs": [
    {
     "name": "stderr",
     "output_type": "stream",
     "text": [
      "                                                                                \r"
     ]
    },
    {
     "name": "stdout",
     "output_type": "stream",
     "text": [
      "+--------------------+---------+--------+------------+------------+----------------+------------------+----------+---------+-----------------+----------------------+-------------------+-----------------+----------+\n",
      "|             SKUDesc|SubChanel|SKULabel|ProvinceCode|GroupChannel|model_prediction|    SubChannelDesc|Start_date|Pred_Rank|Profitablity_Rank|Normalize_Profitablity|Normalize_Pred_rank|   Composite_Rank|Final_Rank|\n",
      "+--------------------+---------+--------+------------+------------+----------------+------------------+----------+---------+-----------------+----------------------+-------------------+-----------------+----------+\n",
      "|      milo_uht_180ml|      101|   PC185|           3|          TT|89.6886934037138|01.Large Provision|2023-12-01|        1|                1|     -2.37668858890866|  -1.70676403707744|-1.77375649226056|         1|\n",
      "|milo_uhtlesssugar...|      101|   PC191|           3|          TT|83.0023916738447|01.Large Provision|2023-12-01|        2|                1|     -2.37668858890866|  -1.65581585686617|-1.72790313007042|         2|\n",
      "|      milo_uht_115ml|      101|   PC184|           3|          TT|68.8655357353748|01.Large Provision|2023-12-01|        3|                1|     -2.37668858890866|   -1.6048676766549|-1.68204976788028|         3|\n",
      "| maggi_l_oyster_350g|      101|   PC144|           3|          TT|58.5902080000525|01.Large Provision|2023-12-01|        4|                1|     -2.37668858890866|  -1.55391949644364|-1.63619640569014|         4|\n",
      "| maggi_l_oyster_820g|      101|   PC146|           3|          TT|45.6054121567305|01.Large Provision|2023-12-01|        5|                1|     -2.37668858890866|  -1.50297131623237|    -1.5903430435|         5|\n",
      "|   milo_reg_jar_400g|      101|   PC178|           3|          TT|32.9484274346722|01.Large Provision|2023-12-01|        8|                1|     -2.37668858890866|  -1.35012677559857|-1.45278295692958|         6|\n",
      "|    nestea_lemon_sib|      101|   PC275|           3|          TT|31.0248711395289|01.Large Provision|2023-12-01|        9|                1|     -2.37668858890866|   -1.2991785953873|-1.40692959473944|         7|\n",
      "|   ncf_3in1_strsib20|      101|   PC244|           3|          TT|27.0153307948334|01.Large Provision|2023-12-01|       10|                1|     -2.37668858890866|  -1.24823041517604| -1.3610762325493|         8|\n",
      "|      milo_uht_180ml|      101|   PC185|           4|          TT|84.6132893354516|01.Large Provision|2023-12-01|        1|                1|     -2.37668858890866|  -1.68705478457395|-1.75601816500742|         1|\n",
      "|      milo_uht_115ml|      101|   PC184|           4|          TT|82.0492359285843|01.Large Provision|2023-12-01|        2|                1|     -2.37668858890866|  -1.59586263405644|-1.67394522954166|         2|\n",
      "|milo_uhtlesssugar...|      101|   PC191|           4|          TT|61.8429566329404|01.Large Provision|2023-12-01|        3|                1|     -2.37668858890866|  -1.50467048353893| -1.5918722940759|         3|\n",
      "| maggi_l_oyster_820g|      101|   PC146|           4|          TT|54.9596159484236|01.Large Provision|2023-12-01|        4|                1|     -2.37668858890866|  -1.41347833302141|-1.50979935861014|         4|\n",
      "| maggi_l_oyster_350g|      101|   PC144|           4|          TT|49.7343051435888|01.Large Provision|2023-12-01|        5|                1|     -2.37668858890866|   -1.3222861825039|-1.42772642314438|         5|\n",
      "|   milo_reg_jar_400g|      101|   PC178|           4|          TT| 48.852032160332|01.Large Provision|2023-12-01|        6|                1|     -2.37668858890866|  -1.23109403198639|-1.34565348767862|         6|\n",
      "|       milo_3in1_sic|      101|   PC175|           4|          TT|45.3056437123634|01.Large Provision|2023-12-01|        7|                1|     -2.37668858890866|  -1.13990188146888|-1.26358055221286|         7|\n",
      "|    nestea_lemon_sib|      101|   PC275|           4|          TT|35.6911208987759|01.Large Provision|2023-12-01|        9|                1|     -2.37668858890866| -0.957517580433862|-1.09943468128134|         8|\n",
      "|      milo_uht_180ml|      101|   PC185|           6|          TT|89.7329877711747|01.Large Provision|2023-12-01|        1|                1|     -2.37668858890866|  -1.69397910771984|-1.76225005583872|         1|\n",
      "|      milo_uht_115ml|      101|   PC184|           6|          TT| 82.669145942783|01.Large Provision|2023-12-01|        2|                1|     -2.37668858890866|  -1.61698005736894|-1.69295091052291|         2|\n",
      "|milo_uhtlesssugar...|      101|   PC191|           6|          TT|80.9993396902754|01.Large Provision|2023-12-01|        3|                1|     -2.37668858890866|  -1.53998100701804| -1.6236517652071|         3|\n",
      "|    nestea_lemon_sib|      101|   PC275|           6|          TT|62.4033833749811|01.Large Provision|2023-12-01|        4|                1|     -2.37668858890866|  -1.46298195666713|-1.55435261989129|         4|\n",
      "+--------------------+---------+--------+------------+------------+----------------+------------------+----------+---------+-----------------+----------------------+-------------------+-----------------+----------+\n",
      "only showing top 20 rows\n",
      "\n"
     ]
    }
   ],
   "source": [
    "df_large.show()"
   ]
  },
  {
   "cell_type": "code",
   "execution_count": 10,
   "id": "c50c4042-4d06-42ed-8c9f-486383b934c7",
   "metadata": {},
   "outputs": [],
   "source": [
    "from pyspark.sql.functions import when\n",
    "df = df.withColumn('Brand', when(df['SKUDesc'].startswith('maggi_'), 'maggi').when(df['SKUDesc'].startswith('milo_'), 'milo').when(df['SKUDesc'].startswith('ncf_'), 'ncf'))"
   ]
  },
  {
   "cell_type": "code",
   "execution_count": 11,
   "id": "d2877a3d-3453-4740-a6f0-1f67aa6de49e",
   "metadata": {},
   "outputs": [
    {
     "name": "stdout",
     "output_type": "stream",
     "text": [
      "+--------------------+-----+\n",
      "|             SKUDesc|Brand|\n",
      "+--------------------+-----+\n",
      "|      milo_uht_180ml| milo|\n",
      "|      milo_uht_115ml| milo|\n",
      "|milo_uhtlesssugar...| milo|\n",
      "|   milo_reg_jar_400g| milo|\n",
      "|       milo_3in1_sic| milo|\n",
      "|nangum_rtd_grow_1...| null|\n",
      "|  nanoptipro_s2_400g| null|\n",
      "|nestleyoguyogurt_...| null|\n",
      "|milo_rtdsigactivg...| milo|\n",
      "|nestleyoguyogurt_...| null|\n",
      "|       nesvita_bib20| null|\n",
      "|  nanoptipro_s2_900g| null|\n",
      "|  nanoptipro_p3_850g| null|\n",
      "|          al110_400g| null|\n",
      "|   milo_rtdtin_240ml| milo|\n",
      "|  nanoptipro_p1_800g| null|\n",
      "|milo_uhtlesssugar...| milo|\n",
      "|nestleyoguyogurt_...| null|\n",
      "|nangum_rtd_hmo_115ml| null|\n",
      "|naninfinipro_s1_800g| null|\n",
      "+--------------------+-----+\n",
      "only showing top 20 rows\n",
      "\n"
     ]
    }
   ],
   "source": [
    "df.select(['SKUDesc', 'Brand']).show()"
   ]
  },
  {
   "cell_type": "code",
   "execution_count": 12,
   "id": "fce44548-7bf1-421d-af20-e3a392f6ade9",
   "metadata": {},
   "outputs": [
    {
     "data": {
      "text/plain": [
       "706"
      ]
     },
     "execution_count": 12,
     "metadata": {},
     "output_type": "execute_result"
    }
   ],
   "source": [
    "df.filter(df['SubChannelDesc']=='01.Large Provision').count()"
   ]
  },
  {
   "cell_type": "code",
   "execution_count": 13,
   "id": "903cb8ef-b354-4b73-b1d5-e4229f86b13e",
   "metadata": {},
   "outputs": [
    {
     "data": {
      "text/plain": [
       "['SKUDesc',\n",
       " 'SubChanel',\n",
       " 'SKULabel',\n",
       " 'ProvinceCode',\n",
       " 'GroupChannel',\n",
       " 'model_prediction',\n",
       " 'SubChannelDesc',\n",
       " 'Start_date',\n",
       " 'Pred_Rank',\n",
       " 'Profitablity_Rank',\n",
       " 'Normalize_Profitablity',\n",
       " 'Normalize_Pred_rank',\n",
       " 'Composite_Rank',\n",
       " 'Final_Rank',\n",
       " 'Brand']"
      ]
     },
     "execution_count": 13,
     "metadata": {},
     "output_type": "execute_result"
    }
   ],
   "source": [
    "df.columns"
   ]
  },
  {
   "cell_type": "code",
   "execution_count": 20,
   "id": "f5c81e15-2d95-402f-8190-43e275a35b8d",
   "metadata": {},
   "outputs": [
    {
     "name": "stdout",
     "output_type": "stream",
     "text": [
      "+--------------------+------------+------------------+----------+-----+\n",
      "|             SKUDesc|ProvinceCode|    SubChannelDesc|Final_Rank|Brand|\n",
      "+--------------------+------------+------------------+----------+-----+\n",
      "|      milo_uht_180ml|           3|01.Large Provision|         1| milo|\n",
      "|milo_uhtlesssugar...|           3|01.Large Provision|         2| milo|\n",
      "|      milo_uht_115ml|           3|01.Large Provision|         3| milo|\n",
      "| maggi_l_oyster_350g|           3|01.Large Provision|         4|maggi|\n",
      "| maggi_l_oyster_820g|           3|01.Large Provision|         5|maggi|\n",
      "|   milo_reg_jar_400g|           3|01.Large Provision|         6| milo|\n",
      "|    nestea_lemon_sib|           3|01.Large Provision|         7| null|\n",
      "|   ncf_3in1_strsib20|           3|01.Large Provision|         8|  ncf|\n",
      "|      milo_uht_180ml|           4|01.Large Provision|         1| milo|\n",
      "|      milo_uht_115ml|           4|01.Large Provision|         2| milo|\n",
      "|milo_uhtlesssugar...|           4|01.Large Provision|         3| milo|\n",
      "| maggi_l_oyster_820g|           4|01.Large Provision|         4|maggi|\n",
      "| maggi_l_oyster_350g|           4|01.Large Provision|         5|maggi|\n",
      "|   milo_reg_jar_400g|           4|01.Large Provision|         6| milo|\n",
      "|       milo_3in1_sic|           4|01.Large Provision|         7| milo|\n",
      "|    nestea_lemon_sib|           4|01.Large Provision|         8| null|\n",
      "|      milo_uht_180ml|           6|01.Large Provision|         1| milo|\n",
      "|      milo_uht_115ml|           6|01.Large Provision|         2| milo|\n",
      "|milo_uhtlesssugar...|           6|01.Large Provision|         3| milo|\n",
      "|    nestea_lemon_sib|           6|01.Large Provision|         4| null|\n",
      "+--------------------+------------+------------------+----------+-----+\n",
      "only showing top 20 rows\n",
      "\n"
     ]
    }
   ],
   "source": [
    "df.filter((df['SubChannelDesc']=='01.Large Provision')&(df['Final_Rank']<=8)).select(['SKUDesc','ProvinceCode','SubChannelDesc','Final_Rank','Brand']).show()"
   ]
  },
  {
   "cell_type": "code",
   "execution_count": 18,
   "id": "9149f416-54f5-48b8-b7e2-515608d518e1",
   "metadata": {},
   "outputs": [
    {
     "name": "stdout",
     "output_type": "stream",
     "text": [
      "+-----+-----+\n",
      "|Brand|count|\n",
      "+-----+-----+\n",
      "|  ncf|  133|\n",
      "| null|  190|\n",
      "|maggi|  226|\n",
      "| milo|  157|\n",
      "+-----+-----+\n",
      "\n"
     ]
    }
   ],
   "source": [
    "df.filter(df['SubChannelDesc']=='01.Large Provision').groupby('Brand').count().show()"
   ]
  },
  {
   "cell_type": "code",
   "execution_count": 19,
   "id": "f3a87a9a-6000-4d97-aa1b-6170fcf6cb3f",
   "metadata": {},
   "outputs": [
    {
     "data": {
      "text/plain": [
       "10000"
      ]
     },
     "execution_count": 19,
     "metadata": {},
     "output_type": "execute_result"
    }
   ],
   "source": [
    "df.count()"
   ]
  },
  {
   "cell_type": "code",
   "execution_count": 21,
   "id": "271ed105-cf1e-4232-930a-47eacbdea420",
   "metadata": {},
   "outputs": [],
   "source": [
    "df = df.withColumn('Is_Top_Brand', when(df['SKUDesc'].startswith('maggi_'), 'yes').when(df['SKUDesc'].startswith('milo_'), 'yes').when(df['SKUDesc'].startswith('ncf_'), 'yes').otherwise('no'))"
   ]
  },
  {
   "cell_type": "code",
   "execution_count": 29,
   "id": "6e23ab4e-820d-46b7-bd53-88e777044cbe",
   "metadata": {},
   "outputs": [
    {
     "name": "stdout",
     "output_type": "stream",
     "text": [
      "+--------------------+------------+------------------+----------+-----+------------+\n",
      "|             SKUDesc|ProvinceCode|    SubChannelDesc|Final_Rank|Brand|Is_Top_Brand|\n",
      "+--------------------+------------+------------------+----------+-----+------------+\n",
      "|      milo_uht_180ml|           3|01.Large Provision|         1| milo|         yes|\n",
      "|milo_uhtlesssugar...|           3|01.Large Provision|         2| milo|         yes|\n",
      "|      milo_uht_115ml|           3|01.Large Provision|         3| milo|         yes|\n",
      "| maggi_l_oyster_350g|           3|01.Large Provision|         4|maggi|         yes|\n",
      "| maggi_l_oyster_820g|           3|01.Large Provision|         5|maggi|         yes|\n",
      "|   milo_reg_jar_400g|           3|01.Large Provision|         6| milo|         yes|\n",
      "|    nestea_lemon_sib|           3|01.Large Provision|         7| null|          no|\n",
      "|   ncf_3in1_strsib20|           3|01.Large Provision|         8|  ncf|         yes|\n",
      "|      milo_uht_180ml|           4|01.Large Provision|         1| milo|         yes|\n",
      "|      milo_uht_115ml|           4|01.Large Provision|         2| milo|         yes|\n",
      "|milo_uhtlesssugar...|           4|01.Large Provision|         3| milo|         yes|\n",
      "| maggi_l_oyster_820g|           4|01.Large Provision|         4|maggi|         yes|\n",
      "| maggi_l_oyster_350g|           4|01.Large Provision|         5|maggi|         yes|\n",
      "|   milo_reg_jar_400g|           4|01.Large Provision|         6| milo|         yes|\n",
      "|       milo_3in1_sic|           4|01.Large Provision|         7| milo|         yes|\n",
      "|    nestea_lemon_sib|           4|01.Large Provision|         8| null|          no|\n",
      "|      milo_uht_180ml|           6|01.Large Provision|         1| milo|         yes|\n",
      "|      milo_uht_115ml|           6|01.Large Provision|         2| milo|         yes|\n",
      "|milo_uhtlesssugar...|           6|01.Large Provision|         3| milo|         yes|\n",
      "|    nestea_lemon_sib|           6|01.Large Provision|         4| null|          no|\n",
      "+--------------------+------------+------------------+----------+-----+------------+\n",
      "only showing top 20 rows\n",
      "\n"
     ]
    }
   ],
   "source": [
    "df_filter = df.filter((df['SubChannelDesc']=='01.Large Provision')&(df['Final_Rank']<=8)).select(['SKUDesc','ProvinceCode','SubChannelDesc','Final_Rank','Brand','Is_Top_Brand'])\n",
    "df_filter.show()"
   ]
  },
  {
   "cell_type": "code",
   "execution_count": 35,
   "id": "17cffcee-2530-428d-be49-fef881a1a8c7",
   "metadata": {},
   "outputs": [
    {
     "data": {
      "text/plain": [
       "[3, 4, 6, 10, 11, 12, 17, 18, 23, 27, 29, 30, 32, 33]"
      ]
     },
     "execution_count": 35,
     "metadata": {},
     "output_type": "execute_result"
    }
   ],
   "source": [
    "province_codes = list(set([int(i['ProvinceCode']) for i in df_filter.collect()]))\n",
    "province_codes = sorted(province_codes)\n",
    "province_codes"
   ]
  },
  {
   "cell_type": "code",
   "execution_count": 36,
   "id": "708fb39b-e9b8-44e0-bda1-ef24e9a3d09c",
   "metadata": {},
   "outputs": [],
   "source": [
    "top_brands = ['maggi', 'milo', 'ncf']"
   ]
  },
  {
   "cell_type": "code",
   "execution_count": 84,
   "id": "58931ae5-cb62-4b20-a348-59a43715a87b",
   "metadata": {},
   "outputs": [
    {
     "name": "stdout",
     "output_type": "stream",
     "text": [
      "Province code 4 does not contain all brands ['milo', 'maggi']\n"
     ]
    },
    {
     "name": "stderr",
     "output_type": "stream",
     "text": [
      "                                                                                \r"
     ]
    },
    {
     "name": "stdout",
     "output_type": "stream",
     "text": [
      "Province code 6 does not contain all brands ['milo', 'maggi']\n"
     ]
    },
    {
     "ename": "AnalysisException",
     "evalue": "path file:/home/venkatesh/jupyter-notebooks/sample.csv already exists.",
     "output_type": "error",
     "traceback": [
      "\u001b[0;31m---------------------------------------------------------------------------\u001b[0m",
      "\u001b[0;31mAnalysisException\u001b[0m                         Traceback (most recent call last)",
      "Cell \u001b[0;32mIn[84], line 20\u001b[0m\n\u001b[1;32m     17\u001b[0m df_val \u001b[38;5;241m=\u001b[39m df_val\u001b[38;5;241m.\u001b[39munion(new_row)\n\u001b[1;32m     18\u001b[0m \u001b[38;5;66;03m# print(df_val.collect()[:8])\u001b[39;00m\n\u001b[1;32m     19\u001b[0m \u001b[38;5;66;03m# df_val.select(['SKUDesc','ProvinceCode','SubChannelDesc','Final_Rank','Brand']).show()\u001b[39;00m\n\u001b[0;32m---> 20\u001b[0m \u001b[43mdf_val\u001b[49m\u001b[38;5;241;43m.\u001b[39;49m\u001b[43mwrite\u001b[49m\u001b[38;5;241;43m.\u001b[39;49m\u001b[43mcsv\u001b[49m\u001b[43m(\u001b[49m\u001b[38;5;124;43m'\u001b[39;49m\u001b[38;5;124;43msample.csv\u001b[39;49m\u001b[38;5;124;43m'\u001b[39;49m\u001b[43m,\u001b[49m\u001b[43m \u001b[49m\u001b[43mheader\u001b[49m\u001b[38;5;241;43m=\u001b[39;49m\u001b[38;5;28;43;01mTrue\u001b[39;49;00m\u001b[43m)\u001b[49m\n",
      "File \u001b[0;32m~/spark-env/lib/python3.9/site-packages/pyspark/sql/readwriter.py:1240\u001b[0m, in \u001b[0;36mDataFrameWriter.csv\u001b[0;34m(self, path, mode, compression, sep, quote, escape, header, nullValue, escapeQuotes, quoteAll, dateFormat, timestampFormat, ignoreLeadingWhiteSpace, ignoreTrailingWhiteSpace, charToEscapeQuoteEscaping, encoding, emptyValue, lineSep)\u001b[0m\n\u001b[1;32m   1221\u001b[0m \u001b[38;5;28mself\u001b[39m\u001b[38;5;241m.\u001b[39mmode(mode)\n\u001b[1;32m   1222\u001b[0m \u001b[38;5;28mself\u001b[39m\u001b[38;5;241m.\u001b[39m_set_opts(\n\u001b[1;32m   1223\u001b[0m     compression\u001b[38;5;241m=\u001b[39mcompression,\n\u001b[1;32m   1224\u001b[0m     sep\u001b[38;5;241m=\u001b[39msep,\n\u001b[0;32m   (...)\u001b[0m\n\u001b[1;32m   1238\u001b[0m     lineSep\u001b[38;5;241m=\u001b[39mlineSep,\n\u001b[1;32m   1239\u001b[0m )\n\u001b[0;32m-> 1240\u001b[0m \u001b[38;5;28;43mself\u001b[39;49m\u001b[38;5;241;43m.\u001b[39;49m\u001b[43m_jwrite\u001b[49m\u001b[38;5;241;43m.\u001b[39;49m\u001b[43mcsv\u001b[49m\u001b[43m(\u001b[49m\u001b[43mpath\u001b[49m\u001b[43m)\u001b[49m\n",
      "File \u001b[0;32m~/spark-env/lib/python3.9/site-packages/py4j/java_gateway.py:1321\u001b[0m, in \u001b[0;36mJavaMember.__call__\u001b[0;34m(self, *args)\u001b[0m\n\u001b[1;32m   1315\u001b[0m command \u001b[38;5;241m=\u001b[39m proto\u001b[38;5;241m.\u001b[39mCALL_COMMAND_NAME \u001b[38;5;241m+\u001b[39m\\\n\u001b[1;32m   1316\u001b[0m     \u001b[38;5;28mself\u001b[39m\u001b[38;5;241m.\u001b[39mcommand_header \u001b[38;5;241m+\u001b[39m\\\n\u001b[1;32m   1317\u001b[0m     args_command \u001b[38;5;241m+\u001b[39m\\\n\u001b[1;32m   1318\u001b[0m     proto\u001b[38;5;241m.\u001b[39mEND_COMMAND_PART\n\u001b[1;32m   1320\u001b[0m answer \u001b[38;5;241m=\u001b[39m \u001b[38;5;28mself\u001b[39m\u001b[38;5;241m.\u001b[39mgateway_client\u001b[38;5;241m.\u001b[39msend_command(command)\n\u001b[0;32m-> 1321\u001b[0m return_value \u001b[38;5;241m=\u001b[39m \u001b[43mget_return_value\u001b[49m\u001b[43m(\u001b[49m\n\u001b[1;32m   1322\u001b[0m \u001b[43m    \u001b[49m\u001b[43manswer\u001b[49m\u001b[43m,\u001b[49m\u001b[43m \u001b[49m\u001b[38;5;28;43mself\u001b[39;49m\u001b[38;5;241;43m.\u001b[39;49m\u001b[43mgateway_client\u001b[49m\u001b[43m,\u001b[49m\u001b[43m \u001b[49m\u001b[38;5;28;43mself\u001b[39;49m\u001b[38;5;241;43m.\u001b[39;49m\u001b[43mtarget_id\u001b[49m\u001b[43m,\u001b[49m\u001b[43m \u001b[49m\u001b[38;5;28;43mself\u001b[39;49m\u001b[38;5;241;43m.\u001b[39;49m\u001b[43mname\u001b[49m\u001b[43m)\u001b[49m\n\u001b[1;32m   1324\u001b[0m \u001b[38;5;28;01mfor\u001b[39;00m temp_arg \u001b[38;5;129;01min\u001b[39;00m temp_args:\n\u001b[1;32m   1325\u001b[0m     temp_arg\u001b[38;5;241m.\u001b[39m_detach()\n",
      "File \u001b[0;32m~/spark-env/lib/python3.9/site-packages/pyspark/sql/utils.py:196\u001b[0m, in \u001b[0;36mcapture_sql_exception.<locals>.deco\u001b[0;34m(*a, **kw)\u001b[0m\n\u001b[1;32m    192\u001b[0m converted \u001b[38;5;241m=\u001b[39m convert_exception(e\u001b[38;5;241m.\u001b[39mjava_exception)\n\u001b[1;32m    193\u001b[0m \u001b[38;5;28;01mif\u001b[39;00m \u001b[38;5;129;01mnot\u001b[39;00m \u001b[38;5;28misinstance\u001b[39m(converted, UnknownException):\n\u001b[1;32m    194\u001b[0m     \u001b[38;5;66;03m# Hide where the exception came from that shows a non-Pythonic\u001b[39;00m\n\u001b[1;32m    195\u001b[0m     \u001b[38;5;66;03m# JVM exception message.\u001b[39;00m\n\u001b[0;32m--> 196\u001b[0m     \u001b[38;5;28;01mraise\u001b[39;00m converted \u001b[38;5;28;01mfrom\u001b[39;00m \u001b[38;5;28;01mNone\u001b[39;00m\n\u001b[1;32m    197\u001b[0m \u001b[38;5;28;01melse\u001b[39;00m:\n\u001b[1;32m    198\u001b[0m     \u001b[38;5;28;01mraise\u001b[39;00m\n",
      "\u001b[0;31mAnalysisException\u001b[0m: path file:/home/venkatesh/jupyter-notebooks/sample.csv already exists."
     ]
    }
   ],
   "source": [
    "columns = df.columns\n",
    "for i in province_codes:\n",
    "    df_val = df.filter((df['SubChannelDesc']=='01.Large Provision')&(df['ProvinceCode']==str(i))&(df['Final_Rank']<=8))\n",
    "    # df_val.select(['SKUDesc','ProvinceCode','SubChannelDesc','Final_Rank','Brand','Is_Top_Brand']).show(8)\n",
    "    all_brands = list(set([i['Brand'] for i in df_val.collect()[:8]]))\n",
    "    if None in all_brands:\n",
    "        all_brands.remove(None)\n",
    "    if (len(all_brands) != 3):\n",
    "        print(f'Province code {i} does not contain all brands {all_brands}')\n",
    "        if 'ncf' not in all_brands:\n",
    "            df_val1 = df.filter((df['SubChannelDesc']=='01.Large Provision')&(df['Brand']=='ncf')&(df['ProvinceCode']==str(i)))\n",
    "            # df_val.select(['SKUDesc','ProvinceCode','SubChannelDesc','Final_Rank','Brand']).show(1)\n",
    "            row_val = df_val1.collect()[0]\n",
    "            # row_val['Final_Rank'] = 8\n",
    "            # print(f'ncf_row: {row_val}')\n",
    "            new_row = spark.createDataFrame([row_val], columns)\n",
    "            df_val = df_val.union(new_row)\n",
    "            # print(df_val.collect()[:8])\n",
    "            # df_val.select(['SKUDesc','ProvinceCode','SubChannelDesc','Final_Rank','Brand']).show()\n",
    "            df_val.write.csv('sample.csv', header=True)"
   ]
  },
  {
   "cell_type": "code",
   "execution_count": 85,
   "id": "7351b239-8e2b-4589-819a-8dd59c558e04",
   "metadata": {},
   "outputs": [
    {
     "data": {
      "text/plain": [
       "8"
      ]
     },
     "execution_count": 85,
     "metadata": {},
     "output_type": "execute_result"
    }
   ],
   "source": [
    "len(df.filter(df['Brand']=='maggi').collect()[:8])"
   ]
  },
  {
   "cell_type": "code",
   "execution_count": null,
   "id": "3471083f-f806-4927-b26e-21a64ddddb0a",
   "metadata": {},
   "outputs": [],
   "source": []
  }
 ],
 "metadata": {
  "kernelspec": {
   "display_name": "Python 3 (ipykernel)",
   "language": "python",
   "name": "python3"
  },
  "language_info": {
   "codemirror_mode": {
    "name": "ipython",
    "version": 3
   },
   "file_extension": ".py",
   "mimetype": "text/x-python",
   "name": "python",
   "nbconvert_exporter": "python",
   "pygments_lexer": "ipython3",
   "version": "3.9.16"
  }
 },
 "nbformat": 4,
 "nbformat_minor": 5
}
