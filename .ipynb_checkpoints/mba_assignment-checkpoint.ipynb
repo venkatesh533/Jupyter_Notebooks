{
 "cells": [
  {
   "cell_type": "code",
   "execution_count": 2,
   "id": "73f9033b-25fc-4c15-a47d-a2e6fed14790",
   "metadata": {},
   "outputs": [],
   "source": [
    "import requests"
   ]
  },
  {
   "cell_type": "code",
   "execution_count": 3,
   "id": "e453ce97-b934-4339-9c03-973b22c4aab4",
   "metadata": {},
   "outputs": [],
   "source": [
    "import numpy as np\n",
    "import pandas as pd\n",
    "import seaborn as sns"
   ]
  },
  {
   "cell_type": "code",
   "execution_count": 4,
   "id": "fe47202a-93e6-4d9c-bb35-46bf2e8faec6",
   "metadata": {},
   "outputs": [],
   "source": [
    "url = \"https://random-data-api.com/api/v2/users?size=100\"\n",
    "res = requests.get(url)\n",
    "json_resp = res.json()"
   ]
  },
  {
   "cell_type": "code",
   "execution_count": 5,
   "id": "f304302b-fd61-4a7c-aaaa-44db33afa903",
   "metadata": {},
   "outputs": [],
   "source": [
    "df = pd.DataFrame.from_dict(json_resp)"
   ]
  },
  {
   "cell_type": "code",
   "execution_count": 6,
   "id": "0379cc41-d74d-4e16-8aae-b54a6255a2a4",
   "metadata": {},
   "outputs": [
    {
     "data": {
      "text/html": [
       "<div>\n",
       "<style scoped>\n",
       "    .dataframe tbody tr th:only-of-type {\n",
       "        vertical-align: middle;\n",
       "    }\n",
       "\n",
       "    .dataframe tbody tr th {\n",
       "        vertical-align: top;\n",
       "    }\n",
       "\n",
       "    .dataframe thead th {\n",
       "        text-align: right;\n",
       "    }\n",
       "</style>\n",
       "<table border=\"1\" class=\"dataframe\">\n",
       "  <thead>\n",
       "    <tr style=\"text-align: right;\">\n",
       "      <th></th>\n",
       "      <th>id</th>\n",
       "      <th>uid</th>\n",
       "      <th>password</th>\n",
       "      <th>first_name</th>\n",
       "      <th>last_name</th>\n",
       "      <th>username</th>\n",
       "      <th>email</th>\n",
       "      <th>avatar</th>\n",
       "      <th>gender</th>\n",
       "      <th>phone_number</th>\n",
       "      <th>social_insurance_number</th>\n",
       "      <th>date_of_birth</th>\n",
       "      <th>employment</th>\n",
       "      <th>address</th>\n",
       "      <th>credit_card</th>\n",
       "      <th>subscription</th>\n",
       "    </tr>\n",
       "  </thead>\n",
       "  <tbody>\n",
       "    <tr>\n",
       "      <th>0</th>\n",
       "      <td>4025</td>\n",
       "      <td>a2928317-973f-4e70-8c70-6e4cce95594c</td>\n",
       "      <td>yLZibceXYj</td>\n",
       "      <td>Magen</td>\n",
       "      <td>Crist</td>\n",
       "      <td>magen.crist</td>\n",
       "      <td>magen.crist@email.com</td>\n",
       "      <td>https://robohash.org/molestiasoccaecatiea.png?...</td>\n",
       "      <td>Female</td>\n",
       "      <td>+502 1-703-465-5668 x430</td>\n",
       "      <td>636962870</td>\n",
       "      <td>2002-06-24</td>\n",
       "      <td>{'title': 'Central Marketing Technician', 'key...</td>\n",
       "      <td>{'city': 'Swiftton', 'street_name': 'Laureen P...</td>\n",
       "      <td>{'cc_number': '4250-0445-5558-6533'}</td>\n",
       "      <td>{'plan': 'Basic', 'status': 'Pending', 'paymen...</td>\n",
       "    </tr>\n",
       "    <tr>\n",
       "      <th>1</th>\n",
       "      <td>6646</td>\n",
       "      <td>94c3898f-a546-4682-911a-61868d8310bd</td>\n",
       "      <td>mTGF61fYn3</td>\n",
       "      <td>Reed</td>\n",
       "      <td>Ondricka</td>\n",
       "      <td>reed.ondricka</td>\n",
       "      <td>reed.ondricka@email.com</td>\n",
       "      <td>https://robohash.org/quisidquae.png?size=300x3...</td>\n",
       "      <td>Male</td>\n",
       "      <td>+594 731-677-9681</td>\n",
       "      <td>459998340</td>\n",
       "      <td>1965-09-23</td>\n",
       "      <td>{'title': 'Retail Specialist', 'key_skill': 'O...</td>\n",
       "      <td>{'city': 'Vancetown', 'street_name': 'Kraig Is...</td>\n",
       "      <td>{'cc_number': '4613-2824-5385-0138'}</td>\n",
       "      <td>{'plan': 'Bronze', 'status': 'Blocked', 'payme...</td>\n",
       "    </tr>\n",
       "    <tr>\n",
       "      <th>2</th>\n",
       "      <td>2711</td>\n",
       "      <td>48a08b43-fc8f-445c-9dc2-a1576304a523</td>\n",
       "      <td>BSLFlWqnVE</td>\n",
       "      <td>Collen</td>\n",
       "      <td>Hansen</td>\n",
       "      <td>collen.hansen</td>\n",
       "      <td>collen.hansen@email.com</td>\n",
       "      <td>https://robohash.org/seddolorestenetur.png?siz...</td>\n",
       "      <td>Non-binary</td>\n",
       "      <td>+683 491.374.1550 x45967</td>\n",
       "      <td>655422996</td>\n",
       "      <td>1959-10-31</td>\n",
       "      <td>{'title': 'Farming Supervisor', 'key_skill': '...</td>\n",
       "      <td>{'city': 'Rachelstad', 'street_name': 'Lavinia...</td>\n",
       "      <td>{'cc_number': '6771-8925-2544-1683'}</td>\n",
       "      <td>{'plan': 'Starter', 'status': 'Active', 'payme...</td>\n",
       "    </tr>\n",
       "    <tr>\n",
       "      <th>3</th>\n",
       "      <td>1712</td>\n",
       "      <td>4dbfafca-72d2-40f6-9f7c-8e575d2f4ccf</td>\n",
       "      <td>bfHc0Qkg4o</td>\n",
       "      <td>Mitchell</td>\n",
       "      <td>Barton</td>\n",
       "      <td>mitchell.barton</td>\n",
       "      <td>mitchell.barton@email.com</td>\n",
       "      <td>https://robohash.org/fugalaborumtemporibus.png...</td>\n",
       "      <td>Genderqueer</td>\n",
       "      <td>+1-876 594-631-5079 x9273</td>\n",
       "      <td>908110257</td>\n",
       "      <td>1998-05-22</td>\n",
       "      <td>{'title': 'Customer Advertising Liaison', 'key...</td>\n",
       "      <td>{'city': 'Dickensshire', 'street_name': 'Shary...</td>\n",
       "      <td>{'cc_number': '4309-2540-4867-3910'}</td>\n",
       "      <td>{'plan': 'Basic', 'status': 'Idle', 'payment_m...</td>\n",
       "    </tr>\n",
       "    <tr>\n",
       "      <th>4</th>\n",
       "      <td>5797</td>\n",
       "      <td>f4dcecde-2d60-4d6c-9ff1-a0416a9940ab</td>\n",
       "      <td>GyELpzu8O7</td>\n",
       "      <td>Cherlyn</td>\n",
       "      <td>Harris</td>\n",
       "      <td>cherlyn.harris</td>\n",
       "      <td>cherlyn.harris@email.com</td>\n",
       "      <td>https://robohash.org/quaequaeratenim.png?size=...</td>\n",
       "      <td>Agender</td>\n",
       "      <td>+1-340 1-521-697-6972 x416</td>\n",
       "      <td>103806477</td>\n",
       "      <td>1994-12-04</td>\n",
       "      <td>{'title': 'Investor Banking Strategist', 'key_...</td>\n",
       "      <td>{'city': 'North Chesterport', 'street_name': '...</td>\n",
       "      <td>{'cc_number': '4742703080203'}</td>\n",
       "      <td>{'plan': 'Free Trial', 'status': 'Blocked', 'p...</td>\n",
       "    </tr>\n",
       "    <tr>\n",
       "      <th>...</th>\n",
       "      <td>...</td>\n",
       "      <td>...</td>\n",
       "      <td>...</td>\n",
       "      <td>...</td>\n",
       "      <td>...</td>\n",
       "      <td>...</td>\n",
       "      <td>...</td>\n",
       "      <td>...</td>\n",
       "      <td>...</td>\n",
       "      <td>...</td>\n",
       "      <td>...</td>\n",
       "      <td>...</td>\n",
       "      <td>...</td>\n",
       "      <td>...</td>\n",
       "      <td>...</td>\n",
       "      <td>...</td>\n",
       "    </tr>\n",
       "    <tr>\n",
       "      <th>95</th>\n",
       "      <td>7533</td>\n",
       "      <td>c732f0cb-5af5-4c93-8aaa-fcd2a0b4f224</td>\n",
       "      <td>lbZRV7sqIN</td>\n",
       "      <td>Emmitt</td>\n",
       "      <td>Yundt</td>\n",
       "      <td>emmitt.yundt</td>\n",
       "      <td>emmitt.yundt@email.com</td>\n",
       "      <td>https://robohash.org/aistesuscipit.png?size=30...</td>\n",
       "      <td>Genderqueer</td>\n",
       "      <td>+594 502-169-3335 x55333</td>\n",
       "      <td>404902934</td>\n",
       "      <td>1969-01-13</td>\n",
       "      <td>{'title': 'Retail Coordinator', 'key_skill': '...</td>\n",
       "      <td>{'city': 'Tracyton', 'street_name': 'Bergstrom...</td>\n",
       "      <td>{'cc_number': '4734-8918-8657-8969'}</td>\n",
       "      <td>{'plan': 'Silver', 'status': 'Pending', 'payme...</td>\n",
       "    </tr>\n",
       "    <tr>\n",
       "      <th>96</th>\n",
       "      <td>4667</td>\n",
       "      <td>68ea240e-155b-438c-ac7a-b066660106bd</td>\n",
       "      <td>0pfjuVPiKk</td>\n",
       "      <td>Leilani</td>\n",
       "      <td>Stokes</td>\n",
       "      <td>leilani.stokes</td>\n",
       "      <td>leilani.stokes@email.com</td>\n",
       "      <td>https://robohash.org/quiarecusandaeut.png?size...</td>\n",
       "      <td>Genderfluid</td>\n",
       "      <td>+501 (557) 050-5463 x17025</td>\n",
       "      <td>408271633</td>\n",
       "      <td>2004-02-02</td>\n",
       "      <td>{'title': 'Principal Administration Representa...</td>\n",
       "      <td>{'city': 'Adolfoberg', 'street_name': 'Porfiri...</td>\n",
       "      <td>{'cc_number': '6771-8969-9060-7504'}</td>\n",
       "      <td>{'plan': 'Essential', 'status': 'Pending', 'pa...</td>\n",
       "    </tr>\n",
       "    <tr>\n",
       "      <th>97</th>\n",
       "      <td>3453</td>\n",
       "      <td>e9b3bd3f-ae4f-43eb-ad43-c86b55ad6881</td>\n",
       "      <td>khzxBsQJLd</td>\n",
       "      <td>Paulina</td>\n",
       "      <td>Bartell</td>\n",
       "      <td>paulina.bartell</td>\n",
       "      <td>paulina.bartell@email.com</td>\n",
       "      <td>https://robohash.org/omnisutdolor.png?size=300...</td>\n",
       "      <td>Bigender</td>\n",
       "      <td>+502 496-030-3309 x1942</td>\n",
       "      <td>512222399</td>\n",
       "      <td>1961-04-27</td>\n",
       "      <td>{'title': 'Chief Manager', 'key_skill': 'Techn...</td>\n",
       "      <td>{'city': 'New Prudence', 'street_name': 'Jonah...</td>\n",
       "      <td>{'cc_number': '4496-5882-9507-7249'}</td>\n",
       "      <td>{'plan': 'Professional', 'status': 'Idle', 'pa...</td>\n",
       "    </tr>\n",
       "    <tr>\n",
       "      <th>98</th>\n",
       "      <td>8088</td>\n",
       "      <td>1d6e2965-35cc-4c1c-bdec-9989df3062e5</td>\n",
       "      <td>V32UWZ9Xe6</td>\n",
       "      <td>Carmelita</td>\n",
       "      <td>Muller</td>\n",
       "      <td>carmelita.muller</td>\n",
       "      <td>carmelita.muller@email.com</td>\n",
       "      <td>https://robohash.org/minusnatuset.png?size=300...</td>\n",
       "      <td>Polygender</td>\n",
       "      <td>+251 495-242-2826 x84332</td>\n",
       "      <td>163729544</td>\n",
       "      <td>1992-05-17</td>\n",
       "      <td>{'title': 'International Advertising Strategis...</td>\n",
       "      <td>{'city': 'North Hyo', 'street_name': 'Mohr Rid...</td>\n",
       "      <td>{'cc_number': '6771-8968-2332-2826'}</td>\n",
       "      <td>{'plan': 'Premium', 'status': 'Active', 'payme...</td>\n",
       "    </tr>\n",
       "    <tr>\n",
       "      <th>99</th>\n",
       "      <td>5763</td>\n",
       "      <td>e2df8f6b-8abd-4d40-8894-b86a20472ea7</td>\n",
       "      <td>NoD0TIpvZ2</td>\n",
       "      <td>Alyssa</td>\n",
       "      <td>White</td>\n",
       "      <td>alyssa.white</td>\n",
       "      <td>alyssa.white@email.com</td>\n",
       "      <td>https://robohash.org/deseruntnisiex.png?size=3...</td>\n",
       "      <td>Agender</td>\n",
       "      <td>+252 (896) 327-5866 x8277</td>\n",
       "      <td>621785625</td>\n",
       "      <td>1979-12-28</td>\n",
       "      <td>{'title': 'Principal Sales Architect', 'key_sk...</td>\n",
       "      <td>{'city': 'Meeshire', 'street_name': 'Ferry Cov...</td>\n",
       "      <td>{'cc_number': '6771-8973-3193-0381'}</td>\n",
       "      <td>{'plan': 'Starter', 'status': 'Blocked', 'paym...</td>\n",
       "    </tr>\n",
       "  </tbody>\n",
       "</table>\n",
       "<p>100 rows × 16 columns</p>\n",
       "</div>"
      ],
      "text/plain": [
       "      id                                   uid    password first_name  \\\n",
       "0   4025  a2928317-973f-4e70-8c70-6e4cce95594c  yLZibceXYj      Magen   \n",
       "1   6646  94c3898f-a546-4682-911a-61868d8310bd  mTGF61fYn3       Reed   \n",
       "2   2711  48a08b43-fc8f-445c-9dc2-a1576304a523  BSLFlWqnVE     Collen   \n",
       "3   1712  4dbfafca-72d2-40f6-9f7c-8e575d2f4ccf  bfHc0Qkg4o   Mitchell   \n",
       "4   5797  f4dcecde-2d60-4d6c-9ff1-a0416a9940ab  GyELpzu8O7    Cherlyn   \n",
       "..   ...                                   ...         ...        ...   \n",
       "95  7533  c732f0cb-5af5-4c93-8aaa-fcd2a0b4f224  lbZRV7sqIN     Emmitt   \n",
       "96  4667  68ea240e-155b-438c-ac7a-b066660106bd  0pfjuVPiKk    Leilani   \n",
       "97  3453  e9b3bd3f-ae4f-43eb-ad43-c86b55ad6881  khzxBsQJLd    Paulina   \n",
       "98  8088  1d6e2965-35cc-4c1c-bdec-9989df3062e5  V32UWZ9Xe6  Carmelita   \n",
       "99  5763  e2df8f6b-8abd-4d40-8894-b86a20472ea7  NoD0TIpvZ2     Alyssa   \n",
       "\n",
       "   last_name          username                       email  \\\n",
       "0      Crist       magen.crist       magen.crist@email.com   \n",
       "1   Ondricka     reed.ondricka     reed.ondricka@email.com   \n",
       "2     Hansen     collen.hansen     collen.hansen@email.com   \n",
       "3     Barton   mitchell.barton   mitchell.barton@email.com   \n",
       "4     Harris    cherlyn.harris    cherlyn.harris@email.com   \n",
       "..       ...               ...                         ...   \n",
       "95     Yundt      emmitt.yundt      emmitt.yundt@email.com   \n",
       "96    Stokes    leilani.stokes    leilani.stokes@email.com   \n",
       "97   Bartell   paulina.bartell   paulina.bartell@email.com   \n",
       "98    Muller  carmelita.muller  carmelita.muller@email.com   \n",
       "99     White      alyssa.white      alyssa.white@email.com   \n",
       "\n",
       "                                               avatar       gender  \\\n",
       "0   https://robohash.org/molestiasoccaecatiea.png?...       Female   \n",
       "1   https://robohash.org/quisidquae.png?size=300x3...         Male   \n",
       "2   https://robohash.org/seddolorestenetur.png?siz...   Non-binary   \n",
       "3   https://robohash.org/fugalaborumtemporibus.png...  Genderqueer   \n",
       "4   https://robohash.org/quaequaeratenim.png?size=...      Agender   \n",
       "..                                                ...          ...   \n",
       "95  https://robohash.org/aistesuscipit.png?size=30...  Genderqueer   \n",
       "96  https://robohash.org/quiarecusandaeut.png?size...  Genderfluid   \n",
       "97  https://robohash.org/omnisutdolor.png?size=300...     Bigender   \n",
       "98  https://robohash.org/minusnatuset.png?size=300...   Polygender   \n",
       "99  https://robohash.org/deseruntnisiex.png?size=3...      Agender   \n",
       "\n",
       "                  phone_number social_insurance_number date_of_birth  \\\n",
       "0     +502 1-703-465-5668 x430               636962870    2002-06-24   \n",
       "1            +594 731-677-9681               459998340    1965-09-23   \n",
       "2     +683 491.374.1550 x45967               655422996    1959-10-31   \n",
       "3    +1-876 594-631-5079 x9273               908110257    1998-05-22   \n",
       "4   +1-340 1-521-697-6972 x416               103806477    1994-12-04   \n",
       "..                         ...                     ...           ...   \n",
       "95    +594 502-169-3335 x55333               404902934    1969-01-13   \n",
       "96  +501 (557) 050-5463 x17025               408271633    2004-02-02   \n",
       "97     +502 496-030-3309 x1942               512222399    1961-04-27   \n",
       "98    +251 495-242-2826 x84332               163729544    1992-05-17   \n",
       "99   +252 (896) 327-5866 x8277               621785625    1979-12-28   \n",
       "\n",
       "                                           employment  \\\n",
       "0   {'title': 'Central Marketing Technician', 'key...   \n",
       "1   {'title': 'Retail Specialist', 'key_skill': 'O...   \n",
       "2   {'title': 'Farming Supervisor', 'key_skill': '...   \n",
       "3   {'title': 'Customer Advertising Liaison', 'key...   \n",
       "4   {'title': 'Investor Banking Strategist', 'key_...   \n",
       "..                                                ...   \n",
       "95  {'title': 'Retail Coordinator', 'key_skill': '...   \n",
       "96  {'title': 'Principal Administration Representa...   \n",
       "97  {'title': 'Chief Manager', 'key_skill': 'Techn...   \n",
       "98  {'title': 'International Advertising Strategis...   \n",
       "99  {'title': 'Principal Sales Architect', 'key_sk...   \n",
       "\n",
       "                                              address  \\\n",
       "0   {'city': 'Swiftton', 'street_name': 'Laureen P...   \n",
       "1   {'city': 'Vancetown', 'street_name': 'Kraig Is...   \n",
       "2   {'city': 'Rachelstad', 'street_name': 'Lavinia...   \n",
       "3   {'city': 'Dickensshire', 'street_name': 'Shary...   \n",
       "4   {'city': 'North Chesterport', 'street_name': '...   \n",
       "..                                                ...   \n",
       "95  {'city': 'Tracyton', 'street_name': 'Bergstrom...   \n",
       "96  {'city': 'Adolfoberg', 'street_name': 'Porfiri...   \n",
       "97  {'city': 'New Prudence', 'street_name': 'Jonah...   \n",
       "98  {'city': 'North Hyo', 'street_name': 'Mohr Rid...   \n",
       "99  {'city': 'Meeshire', 'street_name': 'Ferry Cov...   \n",
       "\n",
       "                             credit_card  \\\n",
       "0   {'cc_number': '4250-0445-5558-6533'}   \n",
       "1   {'cc_number': '4613-2824-5385-0138'}   \n",
       "2   {'cc_number': '6771-8925-2544-1683'}   \n",
       "3   {'cc_number': '4309-2540-4867-3910'}   \n",
       "4         {'cc_number': '4742703080203'}   \n",
       "..                                   ...   \n",
       "95  {'cc_number': '4734-8918-8657-8969'}   \n",
       "96  {'cc_number': '6771-8969-9060-7504'}   \n",
       "97  {'cc_number': '4496-5882-9507-7249'}   \n",
       "98  {'cc_number': '6771-8968-2332-2826'}   \n",
       "99  {'cc_number': '6771-8973-3193-0381'}   \n",
       "\n",
       "                                         subscription  \n",
       "0   {'plan': 'Basic', 'status': 'Pending', 'paymen...  \n",
       "1   {'plan': 'Bronze', 'status': 'Blocked', 'payme...  \n",
       "2   {'plan': 'Starter', 'status': 'Active', 'payme...  \n",
       "3   {'plan': 'Basic', 'status': 'Idle', 'payment_m...  \n",
       "4   {'plan': 'Free Trial', 'status': 'Blocked', 'p...  \n",
       "..                                                ...  \n",
       "95  {'plan': 'Silver', 'status': 'Pending', 'payme...  \n",
       "96  {'plan': 'Essential', 'status': 'Pending', 'pa...  \n",
       "97  {'plan': 'Professional', 'status': 'Idle', 'pa...  \n",
       "98  {'plan': 'Premium', 'status': 'Active', 'payme...  \n",
       "99  {'plan': 'Starter', 'status': 'Blocked', 'paym...  \n",
       "\n",
       "[100 rows x 16 columns]"
      ]
     },
     "execution_count": 6,
     "metadata": {},
     "output_type": "execute_result"
    }
   ],
   "source": [
    "df"
   ]
  },
  {
   "cell_type": "code",
   "execution_count": 7,
   "id": "58354fda-cf58-4560-a436-de642207b4f2",
   "metadata": {},
   "outputs": [
    {
     "data": {
      "text/html": [
       "<div>\n",
       "<style scoped>\n",
       "    .dataframe tbody tr th:only-of-type {\n",
       "        vertical-align: middle;\n",
       "    }\n",
       "\n",
       "    .dataframe tbody tr th {\n",
       "        vertical-align: top;\n",
       "    }\n",
       "\n",
       "    .dataframe thead th {\n",
       "        text-align: right;\n",
       "    }\n",
       "</style>\n",
       "<table border=\"1\" class=\"dataframe\">\n",
       "  <thead>\n",
       "    <tr style=\"text-align: right;\">\n",
       "      <th></th>\n",
       "      <th>id</th>\n",
       "      <th>uid</th>\n",
       "      <th>password</th>\n",
       "      <th>first_name</th>\n",
       "      <th>last_name</th>\n",
       "      <th>username</th>\n",
       "      <th>email</th>\n",
       "      <th>avatar</th>\n",
       "      <th>gender</th>\n",
       "      <th>phone_number</th>\n",
       "      <th>social_insurance_number</th>\n",
       "      <th>date_of_birth</th>\n",
       "      <th>employment</th>\n",
       "      <th>address</th>\n",
       "      <th>credit_card</th>\n",
       "      <th>subscription</th>\n",
       "    </tr>\n",
       "  </thead>\n",
       "  <tbody>\n",
       "    <tr>\n",
       "      <th>0</th>\n",
       "      <td>4025</td>\n",
       "      <td>a2928317-973f-4e70-8c70-6e4cce95594c</td>\n",
       "      <td>yLZibceXYj</td>\n",
       "      <td>Magen</td>\n",
       "      <td>Crist</td>\n",
       "      <td>magen.crist</td>\n",
       "      <td>magen.crist@email.com</td>\n",
       "      <td>https://robohash.org/molestiasoccaecatiea.png?...</td>\n",
       "      <td>Female</td>\n",
       "      <td>+502 1-703-465-5668 x430</td>\n",
       "      <td>636962870</td>\n",
       "      <td>2002-06-24</td>\n",
       "      <td>{'title': 'Central Marketing Technician', 'key...</td>\n",
       "      <td>{'city': 'Swiftton', 'street_name': 'Laureen P...</td>\n",
       "      <td>{'cc_number': '4250-0445-5558-6533'}</td>\n",
       "      <td>{'plan': 'Basic', 'status': 'Pending', 'paymen...</td>\n",
       "    </tr>\n",
       "    <tr>\n",
       "      <th>1</th>\n",
       "      <td>6646</td>\n",
       "      <td>94c3898f-a546-4682-911a-61868d8310bd</td>\n",
       "      <td>mTGF61fYn3</td>\n",
       "      <td>Reed</td>\n",
       "      <td>Ondricka</td>\n",
       "      <td>reed.ondricka</td>\n",
       "      <td>reed.ondricka@email.com</td>\n",
       "      <td>https://robohash.org/quisidquae.png?size=300x3...</td>\n",
       "      <td>Male</td>\n",
       "      <td>+594 731-677-9681</td>\n",
       "      <td>459998340</td>\n",
       "      <td>1965-09-23</td>\n",
       "      <td>{'title': 'Retail Specialist', 'key_skill': 'O...</td>\n",
       "      <td>{'city': 'Vancetown', 'street_name': 'Kraig Is...</td>\n",
       "      <td>{'cc_number': '4613-2824-5385-0138'}</td>\n",
       "      <td>{'plan': 'Bronze', 'status': 'Blocked', 'payme...</td>\n",
       "    </tr>\n",
       "    <tr>\n",
       "      <th>2</th>\n",
       "      <td>2711</td>\n",
       "      <td>48a08b43-fc8f-445c-9dc2-a1576304a523</td>\n",
       "      <td>BSLFlWqnVE</td>\n",
       "      <td>Collen</td>\n",
       "      <td>Hansen</td>\n",
       "      <td>collen.hansen</td>\n",
       "      <td>collen.hansen@email.com</td>\n",
       "      <td>https://robohash.org/seddolorestenetur.png?siz...</td>\n",
       "      <td>Non-binary</td>\n",
       "      <td>+683 491.374.1550 x45967</td>\n",
       "      <td>655422996</td>\n",
       "      <td>1959-10-31</td>\n",
       "      <td>{'title': 'Farming Supervisor', 'key_skill': '...</td>\n",
       "      <td>{'city': 'Rachelstad', 'street_name': 'Lavinia...</td>\n",
       "      <td>{'cc_number': '6771-8925-2544-1683'}</td>\n",
       "      <td>{'plan': 'Starter', 'status': 'Active', 'payme...</td>\n",
       "    </tr>\n",
       "    <tr>\n",
       "      <th>3</th>\n",
       "      <td>1712</td>\n",
       "      <td>4dbfafca-72d2-40f6-9f7c-8e575d2f4ccf</td>\n",
       "      <td>bfHc0Qkg4o</td>\n",
       "      <td>Mitchell</td>\n",
       "      <td>Barton</td>\n",
       "      <td>mitchell.barton</td>\n",
       "      <td>mitchell.barton@email.com</td>\n",
       "      <td>https://robohash.org/fugalaborumtemporibus.png...</td>\n",
       "      <td>Genderqueer</td>\n",
       "      <td>+1-876 594-631-5079 x9273</td>\n",
       "      <td>908110257</td>\n",
       "      <td>1998-05-22</td>\n",
       "      <td>{'title': 'Customer Advertising Liaison', 'key...</td>\n",
       "      <td>{'city': 'Dickensshire', 'street_name': 'Shary...</td>\n",
       "      <td>{'cc_number': '4309-2540-4867-3910'}</td>\n",
       "      <td>{'plan': 'Basic', 'status': 'Idle', 'payment_m...</td>\n",
       "    </tr>\n",
       "    <tr>\n",
       "      <th>4</th>\n",
       "      <td>5797</td>\n",
       "      <td>f4dcecde-2d60-4d6c-9ff1-a0416a9940ab</td>\n",
       "      <td>GyELpzu8O7</td>\n",
       "      <td>Cherlyn</td>\n",
       "      <td>Harris</td>\n",
       "      <td>cherlyn.harris</td>\n",
       "      <td>cherlyn.harris@email.com</td>\n",
       "      <td>https://robohash.org/quaequaeratenim.png?size=...</td>\n",
       "      <td>Agender</td>\n",
       "      <td>+1-340 1-521-697-6972 x416</td>\n",
       "      <td>103806477</td>\n",
       "      <td>1994-12-04</td>\n",
       "      <td>{'title': 'Investor Banking Strategist', 'key_...</td>\n",
       "      <td>{'city': 'North Chesterport', 'street_name': '...</td>\n",
       "      <td>{'cc_number': '4742703080203'}</td>\n",
       "      <td>{'plan': 'Free Trial', 'status': 'Blocked', 'p...</td>\n",
       "    </tr>\n",
       "  </tbody>\n",
       "</table>\n",
       "</div>"
      ],
      "text/plain": [
       "     id                                   uid    password first_name  \\\n",
       "0  4025  a2928317-973f-4e70-8c70-6e4cce95594c  yLZibceXYj      Magen   \n",
       "1  6646  94c3898f-a546-4682-911a-61868d8310bd  mTGF61fYn3       Reed   \n",
       "2  2711  48a08b43-fc8f-445c-9dc2-a1576304a523  BSLFlWqnVE     Collen   \n",
       "3  1712  4dbfafca-72d2-40f6-9f7c-8e575d2f4ccf  bfHc0Qkg4o   Mitchell   \n",
       "4  5797  f4dcecde-2d60-4d6c-9ff1-a0416a9940ab  GyELpzu8O7    Cherlyn   \n",
       "\n",
       "  last_name         username                      email  \\\n",
       "0     Crist      magen.crist      magen.crist@email.com   \n",
       "1  Ondricka    reed.ondricka    reed.ondricka@email.com   \n",
       "2    Hansen    collen.hansen    collen.hansen@email.com   \n",
       "3    Barton  mitchell.barton  mitchell.barton@email.com   \n",
       "4    Harris   cherlyn.harris   cherlyn.harris@email.com   \n",
       "\n",
       "                                              avatar       gender  \\\n",
       "0  https://robohash.org/molestiasoccaecatiea.png?...       Female   \n",
       "1  https://robohash.org/quisidquae.png?size=300x3...         Male   \n",
       "2  https://robohash.org/seddolorestenetur.png?siz...   Non-binary   \n",
       "3  https://robohash.org/fugalaborumtemporibus.png...  Genderqueer   \n",
       "4  https://robohash.org/quaequaeratenim.png?size=...      Agender   \n",
       "\n",
       "                 phone_number social_insurance_number date_of_birth  \\\n",
       "0    +502 1-703-465-5668 x430               636962870    2002-06-24   \n",
       "1           +594 731-677-9681               459998340    1965-09-23   \n",
       "2    +683 491.374.1550 x45967               655422996    1959-10-31   \n",
       "3   +1-876 594-631-5079 x9273               908110257    1998-05-22   \n",
       "4  +1-340 1-521-697-6972 x416               103806477    1994-12-04   \n",
       "\n",
       "                                          employment  \\\n",
       "0  {'title': 'Central Marketing Technician', 'key...   \n",
       "1  {'title': 'Retail Specialist', 'key_skill': 'O...   \n",
       "2  {'title': 'Farming Supervisor', 'key_skill': '...   \n",
       "3  {'title': 'Customer Advertising Liaison', 'key...   \n",
       "4  {'title': 'Investor Banking Strategist', 'key_...   \n",
       "\n",
       "                                             address  \\\n",
       "0  {'city': 'Swiftton', 'street_name': 'Laureen P...   \n",
       "1  {'city': 'Vancetown', 'street_name': 'Kraig Is...   \n",
       "2  {'city': 'Rachelstad', 'street_name': 'Lavinia...   \n",
       "3  {'city': 'Dickensshire', 'street_name': 'Shary...   \n",
       "4  {'city': 'North Chesterport', 'street_name': '...   \n",
       "\n",
       "                            credit_card  \\\n",
       "0  {'cc_number': '4250-0445-5558-6533'}   \n",
       "1  {'cc_number': '4613-2824-5385-0138'}   \n",
       "2  {'cc_number': '6771-8925-2544-1683'}   \n",
       "3  {'cc_number': '4309-2540-4867-3910'}   \n",
       "4        {'cc_number': '4742703080203'}   \n",
       "\n",
       "                                        subscription  \n",
       "0  {'plan': 'Basic', 'status': 'Pending', 'paymen...  \n",
       "1  {'plan': 'Bronze', 'status': 'Blocked', 'payme...  \n",
       "2  {'plan': 'Starter', 'status': 'Active', 'payme...  \n",
       "3  {'plan': 'Basic', 'status': 'Idle', 'payment_m...  \n",
       "4  {'plan': 'Free Trial', 'status': 'Blocked', 'p...  "
      ]
     },
     "execution_count": 7,
     "metadata": {},
     "output_type": "execute_result"
    }
   ],
   "source": [
    "df.head()"
   ]
  },
  {
   "cell_type": "code",
   "execution_count": 8,
   "id": "3e4a868e-aedd-4874-b2d6-dea7cf19c760",
   "metadata": {},
   "outputs": [
    {
     "data": {
      "text/plain": [
       "Index(['id', 'uid', 'password', 'first_name', 'last_name', 'username', 'email',\n",
       "       'avatar', 'gender', 'phone_number', 'social_insurance_number',\n",
       "       'date_of_birth', 'employment', 'address', 'credit_card',\n",
       "       'subscription'],\n",
       "      dtype='object')"
      ]
     },
     "execution_count": 8,
     "metadata": {},
     "output_type": "execute_result"
    }
   ],
   "source": [
    "df.columns"
   ]
  },
  {
   "cell_type": "markdown",
   "id": "7031e663-3ab5-42ac-a9a8-38f7f05b53cd",
   "metadata": {},
   "source": [
    "# Q2) Add a column to the dataframe that shows the current age of the user"
   ]
  },
  {
   "cell_type": "code",
   "execution_count": 9,
   "id": "058c9972-68e7-44bf-ae0f-ecbf2e24bbcd",
   "metadata": {},
   "outputs": [
    {
     "data": {
      "text/plain": [
       "0     2002-06-24\n",
       "1     1965-09-23\n",
       "2     1959-10-31\n",
       "3     1998-05-22\n",
       "4     1994-12-04\n",
       "         ...    \n",
       "95    1969-01-13\n",
       "96    2004-02-02\n",
       "97    1961-04-27\n",
       "98    1992-05-17\n",
       "99    1979-12-28\n",
       "Name: date_of_birth, Length: 100, dtype: object"
      ]
     },
     "execution_count": 9,
     "metadata": {},
     "output_type": "execute_result"
    }
   ],
   "source": [
    "df['date_of_birth']"
   ]
  },
  {
   "cell_type": "code",
   "execution_count": 10,
   "id": "845c71bf-a38f-4eb5-adfc-2de390edf7cc",
   "metadata": {},
   "outputs": [],
   "source": [
    "dobs = [i for i in df['date_of_birth']]\n",
    "df['age'] = dobs"
   ]
  },
  {
   "cell_type": "code",
   "execution_count": 11,
   "id": "d8fa5f55-37f3-4451-96cc-5abaee5b2720",
   "metadata": {},
   "outputs": [
    {
     "data": {
      "text/plain": [
       "100"
      ]
     },
     "execution_count": 11,
     "metadata": {},
     "output_type": "execute_result"
    }
   ],
   "source": [
    "len(dobs)"
   ]
  },
  {
   "cell_type": "code",
   "execution_count": 12,
   "id": "a78ea2ff-05bd-4da0-8e67-22542f4f78ab",
   "metadata": {},
   "outputs": [
    {
     "data": {
      "text/plain": [
       "datetime.datetime(2024, 3, 12, 19, 5, 19, 554600)"
      ]
     },
     "execution_count": 12,
     "metadata": {},
     "output_type": "execute_result"
    }
   ],
   "source": [
    "import datetime\n",
    "today = datetime.datetime.today()\n",
    "today"
   ]
  },
  {
   "cell_type": "code",
   "execution_count": 13,
   "id": "740f6a79-7789-4ac9-b428-ad5e4d0b7ddd",
   "metadata": {},
   "outputs": [
    {
     "data": {
      "text/plain": [
       "datetime.datetime(2002, 10, 13, 0, 0)"
      ]
     },
     "execution_count": 13,
     "metadata": {},
     "output_type": "execute_result"
    }
   ],
   "source": [
    "date = '2002-10-13'\n",
    "date = datetime.datetime.strptime(date, '%Y-%m-%d')\n",
    "date"
   ]
  },
  {
   "cell_type": "code",
   "execution_count": 14,
   "id": "9c7b567c-b059-42ff-a0c6-505a599cf09b",
   "metadata": {},
   "outputs": [
    {
     "data": {
      "text/plain": [
       "datetime.timedelta(days=7821, seconds=68719, microseconds=554600)"
      ]
     },
     "execution_count": 14,
     "metadata": {},
     "output_type": "execute_result"
    }
   ],
   "source": [
    "res = today - date\n",
    "res"
   ]
  },
  {
   "cell_type": "code",
   "execution_count": 15,
   "id": "51950614-bbf9-40ca-90a1-59e5b9ee9935",
   "metadata": {},
   "outputs": [
    {
     "data": {
      "text/plain": [
       "22"
      ]
     },
     "execution_count": 15,
     "metadata": {},
     "output_type": "execute_result"
    }
   ],
   "source": [
    "today.year - date.year"
   ]
  },
  {
   "cell_type": "code",
   "execution_count": 16,
   "id": "2d0316bb-fab9-4270-991f-bf669a0370ec",
   "metadata": {},
   "outputs": [],
   "source": [
    "ages = []\n",
    "for i in dobs:\n",
    "    date_str = datetime.datetime.strptime(i, '%Y-%m-%d')\n",
    "    age = today.year-date_str.year\n",
    "    ages.append(age)"
   ]
  },
  {
   "cell_type": "code",
   "execution_count": 17,
   "id": "5c020aed-a125-417d-a023-27c58c42cb71",
   "metadata": {},
   "outputs": [
    {
     "data": {
      "text/plain": [
       "[22,\n",
       " 59,\n",
       " 65,\n",
       " 26,\n",
       " 30,\n",
       " 60,\n",
       " 43,\n",
       " 42,\n",
       " 26,\n",
       " 34,\n",
       " 37,\n",
       " 39,\n",
       " 48,\n",
       " 20,\n",
       " 22,\n",
       " 43,\n",
       " 62,\n",
       " 63,\n",
       " 29,\n",
       " 47,\n",
       " 19,\n",
       " 36,\n",
       " 62,\n",
       " 43,\n",
       " 23,\n",
       " 53,\n",
       " 62,\n",
       " 36,\n",
       " 29,\n",
       " 36,\n",
       " 57,\n",
       " 45,\n",
       " 61,\n",
       " 33,\n",
       " 36,\n",
       " 45,\n",
       " 21,\n",
       " 24,\n",
       " 49,\n",
       " 31,\n",
       " 62,\n",
       " 60,\n",
       " 62,\n",
       " 50,\n",
       " 41,\n",
       " 32,\n",
       " 28,\n",
       " 62,\n",
       " 54,\n",
       " 43,\n",
       " 31,\n",
       " 19,\n",
       " 46,\n",
       " 65,\n",
       " 51,\n",
       " 41,\n",
       " 28,\n",
       " 41,\n",
       " 19,\n",
       " 50,\n",
       " 24,\n",
       " 34,\n",
       " 61,\n",
       " 40,\n",
       " 38,\n",
       " 40,\n",
       " 61,\n",
       " 31,\n",
       " 58,\n",
       " 28,\n",
       " 63,\n",
       " 33,\n",
       " 43,\n",
       " 34,\n",
       " 60,\n",
       " 18,\n",
       " 32,\n",
       " 36,\n",
       " 47,\n",
       " 48,\n",
       " 54,\n",
       " 23,\n",
       " 59,\n",
       " 25,\n",
       " 35,\n",
       " 37,\n",
       " 63,\n",
       " 30,\n",
       " 45,\n",
       " 56,\n",
       " 39,\n",
       " 35,\n",
       " 33,\n",
       " 21,\n",
       " 29,\n",
       " 55,\n",
       " 20,\n",
       " 63,\n",
       " 32,\n",
       " 45]"
      ]
     },
     "execution_count": 17,
     "metadata": {},
     "output_type": "execute_result"
    }
   ],
   "source": [
    "ages"
   ]
  },
  {
   "cell_type": "code",
   "execution_count": 18,
   "id": "e55bf0b6-c3aa-45f9-8790-a492626b7a92",
   "metadata": {},
   "outputs": [],
   "source": [
    "df['age'] = ages"
   ]
  },
  {
   "cell_type": "code",
   "execution_count": 19,
   "id": "b6455413-b912-4e98-a65d-3b1a7b0c60dd",
   "metadata": {},
   "outputs": [
    {
     "data": {
      "text/html": [
       "<div>\n",
       "<style scoped>\n",
       "    .dataframe tbody tr th:only-of-type {\n",
       "        vertical-align: middle;\n",
       "    }\n",
       "\n",
       "    .dataframe tbody tr th {\n",
       "        vertical-align: top;\n",
       "    }\n",
       "\n",
       "    .dataframe thead th {\n",
       "        text-align: right;\n",
       "    }\n",
       "</style>\n",
       "<table border=\"1\" class=\"dataframe\">\n",
       "  <thead>\n",
       "    <tr style=\"text-align: right;\">\n",
       "      <th></th>\n",
       "      <th>id</th>\n",
       "      <th>uid</th>\n",
       "      <th>password</th>\n",
       "      <th>first_name</th>\n",
       "      <th>last_name</th>\n",
       "      <th>username</th>\n",
       "      <th>email</th>\n",
       "      <th>avatar</th>\n",
       "      <th>gender</th>\n",
       "      <th>phone_number</th>\n",
       "      <th>social_insurance_number</th>\n",
       "      <th>date_of_birth</th>\n",
       "      <th>employment</th>\n",
       "      <th>address</th>\n",
       "      <th>credit_card</th>\n",
       "      <th>subscription</th>\n",
       "      <th>age</th>\n",
       "    </tr>\n",
       "  </thead>\n",
       "  <tbody>\n",
       "    <tr>\n",
       "      <th>0</th>\n",
       "      <td>4025</td>\n",
       "      <td>a2928317-973f-4e70-8c70-6e4cce95594c</td>\n",
       "      <td>yLZibceXYj</td>\n",
       "      <td>Magen</td>\n",
       "      <td>Crist</td>\n",
       "      <td>magen.crist</td>\n",
       "      <td>magen.crist@email.com</td>\n",
       "      <td>https://robohash.org/molestiasoccaecatiea.png?...</td>\n",
       "      <td>Female</td>\n",
       "      <td>+502 1-703-465-5668 x430</td>\n",
       "      <td>636962870</td>\n",
       "      <td>2002-06-24</td>\n",
       "      <td>{'title': 'Central Marketing Technician', 'key...</td>\n",
       "      <td>{'city': 'Swiftton', 'street_name': 'Laureen P...</td>\n",
       "      <td>{'cc_number': '4250-0445-5558-6533'}</td>\n",
       "      <td>{'plan': 'Basic', 'status': 'Pending', 'paymen...</td>\n",
       "      <td>22</td>\n",
       "    </tr>\n",
       "    <tr>\n",
       "      <th>1</th>\n",
       "      <td>6646</td>\n",
       "      <td>94c3898f-a546-4682-911a-61868d8310bd</td>\n",
       "      <td>mTGF61fYn3</td>\n",
       "      <td>Reed</td>\n",
       "      <td>Ondricka</td>\n",
       "      <td>reed.ondricka</td>\n",
       "      <td>reed.ondricka@email.com</td>\n",
       "      <td>https://robohash.org/quisidquae.png?size=300x3...</td>\n",
       "      <td>Male</td>\n",
       "      <td>+594 731-677-9681</td>\n",
       "      <td>459998340</td>\n",
       "      <td>1965-09-23</td>\n",
       "      <td>{'title': 'Retail Specialist', 'key_skill': 'O...</td>\n",
       "      <td>{'city': 'Vancetown', 'street_name': 'Kraig Is...</td>\n",
       "      <td>{'cc_number': '4613-2824-5385-0138'}</td>\n",
       "      <td>{'plan': 'Bronze', 'status': 'Blocked', 'payme...</td>\n",
       "      <td>59</td>\n",
       "    </tr>\n",
       "    <tr>\n",
       "      <th>2</th>\n",
       "      <td>2711</td>\n",
       "      <td>48a08b43-fc8f-445c-9dc2-a1576304a523</td>\n",
       "      <td>BSLFlWqnVE</td>\n",
       "      <td>Collen</td>\n",
       "      <td>Hansen</td>\n",
       "      <td>collen.hansen</td>\n",
       "      <td>collen.hansen@email.com</td>\n",
       "      <td>https://robohash.org/seddolorestenetur.png?siz...</td>\n",
       "      <td>Non-binary</td>\n",
       "      <td>+683 491.374.1550 x45967</td>\n",
       "      <td>655422996</td>\n",
       "      <td>1959-10-31</td>\n",
       "      <td>{'title': 'Farming Supervisor', 'key_skill': '...</td>\n",
       "      <td>{'city': 'Rachelstad', 'street_name': 'Lavinia...</td>\n",
       "      <td>{'cc_number': '6771-8925-2544-1683'}</td>\n",
       "      <td>{'plan': 'Starter', 'status': 'Active', 'payme...</td>\n",
       "      <td>65</td>\n",
       "    </tr>\n",
       "    <tr>\n",
       "      <th>3</th>\n",
       "      <td>1712</td>\n",
       "      <td>4dbfafca-72d2-40f6-9f7c-8e575d2f4ccf</td>\n",
       "      <td>bfHc0Qkg4o</td>\n",
       "      <td>Mitchell</td>\n",
       "      <td>Barton</td>\n",
       "      <td>mitchell.barton</td>\n",
       "      <td>mitchell.barton@email.com</td>\n",
       "      <td>https://robohash.org/fugalaborumtemporibus.png...</td>\n",
       "      <td>Genderqueer</td>\n",
       "      <td>+1-876 594-631-5079 x9273</td>\n",
       "      <td>908110257</td>\n",
       "      <td>1998-05-22</td>\n",
       "      <td>{'title': 'Customer Advertising Liaison', 'key...</td>\n",
       "      <td>{'city': 'Dickensshire', 'street_name': 'Shary...</td>\n",
       "      <td>{'cc_number': '4309-2540-4867-3910'}</td>\n",
       "      <td>{'plan': 'Basic', 'status': 'Idle', 'payment_m...</td>\n",
       "      <td>26</td>\n",
       "    </tr>\n",
       "    <tr>\n",
       "      <th>4</th>\n",
       "      <td>5797</td>\n",
       "      <td>f4dcecde-2d60-4d6c-9ff1-a0416a9940ab</td>\n",
       "      <td>GyELpzu8O7</td>\n",
       "      <td>Cherlyn</td>\n",
       "      <td>Harris</td>\n",
       "      <td>cherlyn.harris</td>\n",
       "      <td>cherlyn.harris@email.com</td>\n",
       "      <td>https://robohash.org/quaequaeratenim.png?size=...</td>\n",
       "      <td>Agender</td>\n",
       "      <td>+1-340 1-521-697-6972 x416</td>\n",
       "      <td>103806477</td>\n",
       "      <td>1994-12-04</td>\n",
       "      <td>{'title': 'Investor Banking Strategist', 'key_...</td>\n",
       "      <td>{'city': 'North Chesterport', 'street_name': '...</td>\n",
       "      <td>{'cc_number': '4742703080203'}</td>\n",
       "      <td>{'plan': 'Free Trial', 'status': 'Blocked', 'p...</td>\n",
       "      <td>30</td>\n",
       "    </tr>\n",
       "  </tbody>\n",
       "</table>\n",
       "</div>"
      ],
      "text/plain": [
       "     id                                   uid    password first_name  \\\n",
       "0  4025  a2928317-973f-4e70-8c70-6e4cce95594c  yLZibceXYj      Magen   \n",
       "1  6646  94c3898f-a546-4682-911a-61868d8310bd  mTGF61fYn3       Reed   \n",
       "2  2711  48a08b43-fc8f-445c-9dc2-a1576304a523  BSLFlWqnVE     Collen   \n",
       "3  1712  4dbfafca-72d2-40f6-9f7c-8e575d2f4ccf  bfHc0Qkg4o   Mitchell   \n",
       "4  5797  f4dcecde-2d60-4d6c-9ff1-a0416a9940ab  GyELpzu8O7    Cherlyn   \n",
       "\n",
       "  last_name         username                      email  \\\n",
       "0     Crist      magen.crist      magen.crist@email.com   \n",
       "1  Ondricka    reed.ondricka    reed.ondricka@email.com   \n",
       "2    Hansen    collen.hansen    collen.hansen@email.com   \n",
       "3    Barton  mitchell.barton  mitchell.barton@email.com   \n",
       "4    Harris   cherlyn.harris   cherlyn.harris@email.com   \n",
       "\n",
       "                                              avatar       gender  \\\n",
       "0  https://robohash.org/molestiasoccaecatiea.png?...       Female   \n",
       "1  https://robohash.org/quisidquae.png?size=300x3...         Male   \n",
       "2  https://robohash.org/seddolorestenetur.png?siz...   Non-binary   \n",
       "3  https://robohash.org/fugalaborumtemporibus.png...  Genderqueer   \n",
       "4  https://robohash.org/quaequaeratenim.png?size=...      Agender   \n",
       "\n",
       "                 phone_number social_insurance_number date_of_birth  \\\n",
       "0    +502 1-703-465-5668 x430               636962870    2002-06-24   \n",
       "1           +594 731-677-9681               459998340    1965-09-23   \n",
       "2    +683 491.374.1550 x45967               655422996    1959-10-31   \n",
       "3   +1-876 594-631-5079 x9273               908110257    1998-05-22   \n",
       "4  +1-340 1-521-697-6972 x416               103806477    1994-12-04   \n",
       "\n",
       "                                          employment  \\\n",
       "0  {'title': 'Central Marketing Technician', 'key...   \n",
       "1  {'title': 'Retail Specialist', 'key_skill': 'O...   \n",
       "2  {'title': 'Farming Supervisor', 'key_skill': '...   \n",
       "3  {'title': 'Customer Advertising Liaison', 'key...   \n",
       "4  {'title': 'Investor Banking Strategist', 'key_...   \n",
       "\n",
       "                                             address  \\\n",
       "0  {'city': 'Swiftton', 'street_name': 'Laureen P...   \n",
       "1  {'city': 'Vancetown', 'street_name': 'Kraig Is...   \n",
       "2  {'city': 'Rachelstad', 'street_name': 'Lavinia...   \n",
       "3  {'city': 'Dickensshire', 'street_name': 'Shary...   \n",
       "4  {'city': 'North Chesterport', 'street_name': '...   \n",
       "\n",
       "                            credit_card  \\\n",
       "0  {'cc_number': '4250-0445-5558-6533'}   \n",
       "1  {'cc_number': '4613-2824-5385-0138'}   \n",
       "2  {'cc_number': '6771-8925-2544-1683'}   \n",
       "3  {'cc_number': '4309-2540-4867-3910'}   \n",
       "4        {'cc_number': '4742703080203'}   \n",
       "\n",
       "                                        subscription  age  \n",
       "0  {'plan': 'Basic', 'status': 'Pending', 'paymen...   22  \n",
       "1  {'plan': 'Bronze', 'status': 'Blocked', 'payme...   59  \n",
       "2  {'plan': 'Starter', 'status': 'Active', 'payme...   65  \n",
       "3  {'plan': 'Basic', 'status': 'Idle', 'payment_m...   26  \n",
       "4  {'plan': 'Free Trial', 'status': 'Blocked', 'p...   30  "
      ]
     },
     "execution_count": 19,
     "metadata": {},
     "output_type": "execute_result"
    }
   ],
   "source": [
    "df.head()"
   ]
  },
  {
   "cell_type": "markdown",
   "id": "47d0e912-ccc5-44b0-88c7-21d41219f192",
   "metadata": {},
   "source": [
    "# Q3) Create a plot for the distribution of ages in the dataset"
   ]
  },
  {
   "cell_type": "code",
   "execution_count": 20,
   "id": "5dbd38ff-b2d1-481e-b567-d5e6c559d188",
   "metadata": {},
   "outputs": [
    {
     "data": {
      "text/plain": [
       "0     22\n",
       "1     59\n",
       "2     65\n",
       "3     26\n",
       "4     30\n",
       "      ..\n",
       "95    55\n",
       "96    20\n",
       "97    63\n",
       "98    32\n",
       "99    45\n",
       "Name: age, Length: 100, dtype: int64"
      ]
     },
     "execution_count": 20,
     "metadata": {},
     "output_type": "execute_result"
    }
   ],
   "source": [
    "df['age']"
   ]
  },
  {
   "cell_type": "code",
   "execution_count": 21,
   "id": "613ce982-aa41-4a3f-8d5d-9764473e7e70",
   "metadata": {},
   "outputs": [
    {
     "name": "stderr",
     "output_type": "stream",
     "text": [
      "/tmp/ipykernel_25818/585694636.py:3: UserWarning: \n",
      "\n",
      "`distplot` is a deprecated function and will be removed in seaborn v0.14.0.\n",
      "\n",
      "Please adapt your code to use either `displot` (a figure-level function with\n",
      "similar flexibility) or `histplot` (an axes-level function for histograms).\n",
      "\n",
      "For a guide to updating your code to use the new functions, please see\n",
      "https://gist.github.com/mwaskom/de44147ed2974457ad6372750bbe5751\n",
      "\n",
      "  sns.distplot(df['age'], kde = False, color ='red', bins = 30)\n"
     ]
    },
    {
     "data": {
      "text/plain": [
       "<Axes: xlabel='age'>"
      ]
     },
     "execution_count": 21,
     "metadata": {},
     "output_type": "execute_result"
    },
    {
     "data": {
      "image/png": "[encoded data removed]",
      "text/plain": [
       "<Figure size 640x480 with 1 Axes>"
      ]
     },
     "metadata": {},
     "output_type": "display_data"
    }
   ],
   "source": [
    "# set the background style of the plot\n",
    "sns.set_style('whitegrid')\n",
    "sns.distplot(df['age'], kde = False, color ='red', bins = 30)"
   ]
  },
  {
   "cell_type": "markdown",
   "id": "cc966a34-dce5-4d55-9f1f-fd37d0158948",
   "metadata": {},
   "source": [
    "# Q4) Create a Q-Q plot for the age"
   ]
  },
  {
   "cell_type": "code",
   "execution_count": 22,
   "id": "b55c95b8-2fe0-4922-bb8d-17e31f0c7594",
   "metadata": {},
   "outputs": [],
   "source": [
    "import statsmodels.api as sm \n",
    "import pylab as py"
   ]
  },
  {
   "cell_type": "code",
   "execution_count": 23,
   "id": "19fad2eb-0ec3-48d3-aa7d-1e872017e933",
   "metadata": {},
   "outputs": [
    {
     "data": {
      "image/png": "[encoded data removed]",
      "text/plain": [
       "<Figure size 640x480 with 1 Axes>"
      ]
     },
     "metadata": {},
     "output_type": "display_data"
    }
   ],
   "source": [
    "sm.qqplot(df['age'], line ='45') \n",
    "py.show() "
   ]
  },
  {
   "cell_type": "markdown",
   "id": "1018f604-8bc2-4386-a17a-5b92011497d6",
   "metadata": {},
   "source": [
    "# Q5) Create a boxplot for age"
   ]
  },
  {
   "cell_type": "code",
   "execution_count": 25,
   "id": "0f7743fc-65b9-4d8c-b4d1-92a477577da4",
   "metadata": {},
   "outputs": [
    {
     "data": {
      "text/plain": [
       "<Axes: ylabel='age'>"
      ]
     },
     "execution_count": 25,
     "metadata": {},
     "output_type": "execute_result"
    },
    {
     "data": {
      "image/png": "[encoded data removed]",
      "text/plain": [
       "<Figure size 640x480 with 1 Axes>"
      ]
     },
     "metadata": {},
     "output_type": "display_data"
    }
   ],
   "source": [
    "sns.set_style(\"whitegrid\") \n",
    "sns.boxplot(data = df['age']) "
   ]
  },
  {
   "cell_type": "markdown",
   "id": "79b79bfb-0977-4cd6-9208-65f0f384a1a2",
   "metadata": {},
   "source": [
    "# Q6) Create a bar plot showing the number of users generated for each payment method"
   ]
  },
  {
   "cell_type": "code",
   "execution_count": 28,
   "id": "ff14e99f-9016-454f-aec4-c0c7d4ad3394",
   "metadata": {},
   "outputs": [
    {
     "data": {
      "text/plain": [
       "Index(['id', 'uid', 'password', 'first_name', 'last_name', 'username', 'email',\n",
       "       'avatar', 'gender', 'phone_number', 'social_insurance_number',\n",
       "       'date_of_birth', 'employment', 'address', 'credit_card', 'subscription',\n",
       "       'age'],\n",
       "      dtype='object')"
      ]
     },
     "execution_count": 28,
     "metadata": {},
     "output_type": "execute_result"
    }
   ],
   "source": [
    "df.columns"
   ]
  },
  {
   "cell_type": "code",
   "execution_count": 29,
   "id": "236813ca-e8a2-450d-aef6-4f346345d9f4",
   "metadata": {},
   "outputs": [
    {
     "data": {
      "text/html": [
       "<div>\n",
       "<style scoped>\n",
       "    .dataframe tbody tr th:only-of-type {\n",
       "        vertical-align: middle;\n",
       "    }\n",
       "\n",
       "    .dataframe tbody tr th {\n",
       "        vertical-align: top;\n",
       "    }\n",
       "\n",
       "    .dataframe thead th {\n",
       "        text-align: right;\n",
       "    }\n",
       "</style>\n",
       "<table border=\"1\" class=\"dataframe\">\n",
       "  <thead>\n",
       "    <tr style=\"text-align: right;\">\n",
       "      <th></th>\n",
       "      <th>id</th>\n",
       "      <th>uid</th>\n",
       "      <th>password</th>\n",
       "      <th>first_name</th>\n",
       "      <th>last_name</th>\n",
       "      <th>username</th>\n",
       "      <th>email</th>\n",
       "      <th>avatar</th>\n",
       "      <th>gender</th>\n",
       "      <th>phone_number</th>\n",
       "      <th>social_insurance_number</th>\n",
       "      <th>date_of_birth</th>\n",
       "      <th>employment</th>\n",
       "      <th>address</th>\n",
       "      <th>credit_card</th>\n",
       "      <th>subscription</th>\n",
       "      <th>age</th>\n",
       "    </tr>\n",
       "  </thead>\n",
       "  <tbody>\n",
       "    <tr>\n",
       "      <th>0</th>\n",
       "      <td>4025</td>\n",
       "      <td>a2928317-973f-4e70-8c70-6e4cce95594c</td>\n",
       "      <td>yLZibceXYj</td>\n",
       "      <td>Magen</td>\n",
       "      <td>Crist</td>\n",
       "      <td>magen.crist</td>\n",
       "      <td>magen.crist@email.com</td>\n",
       "      <td>https://robohash.org/molestiasoccaecatiea.png?...</td>\n",
       "      <td>Female</td>\n",
       "      <td>+502 1-703-465-5668 x430</td>\n",
       "      <td>636962870</td>\n",
       "      <td>2002-06-24</td>\n",
       "      <td>{'title': 'Central Marketing Technician', 'key...</td>\n",
       "      <td>{'city': 'Swiftton', 'street_name': 'Laureen P...</td>\n",
       "      <td>{'cc_number': '4250-0445-5558-6533'}</td>\n",
       "      <td>{'plan': 'Basic', 'status': 'Pending', 'paymen...</td>\n",
       "      <td>22</td>\n",
       "    </tr>\n",
       "    <tr>\n",
       "      <th>1</th>\n",
       "      <td>6646</td>\n",
       "      <td>94c3898f-a546-4682-911a-61868d8310bd</td>\n",
       "      <td>mTGF61fYn3</td>\n",
       "      <td>Reed</td>\n",
       "      <td>Ondricka</td>\n",
       "      <td>reed.ondricka</td>\n",
       "      <td>reed.ondricka@email.com</td>\n",
       "      <td>https://robohash.org/quisidquae.png?size=300x3...</td>\n",
       "      <td>Male</td>\n",
       "      <td>+594 731-677-9681</td>\n",
       "      <td>459998340</td>\n",
       "      <td>1965-09-23</td>\n",
       "      <td>{'title': 'Retail Specialist', 'key_skill': 'O...</td>\n",
       "      <td>{'city': 'Vancetown', 'street_name': 'Kraig Is...</td>\n",
       "      <td>{'cc_number': '4613-2824-5385-0138'}</td>\n",
       "      <td>{'plan': 'Bronze', 'status': 'Blocked', 'payme...</td>\n",
       "      <td>59</td>\n",
       "    </tr>\n",
       "    <tr>\n",
       "      <th>2</th>\n",
       "      <td>2711</td>\n",
       "      <td>48a08b43-fc8f-445c-9dc2-a1576304a523</td>\n",
       "      <td>BSLFlWqnVE</td>\n",
       "      <td>Collen</td>\n",
       "      <td>Hansen</td>\n",
       "      <td>collen.hansen</td>\n",
       "      <td>collen.hansen@email.com</td>\n",
       "      <td>https://robohash.org/seddolorestenetur.png?siz...</td>\n",
       "      <td>Non-binary</td>\n",
       "      <td>+683 491.374.1550 x45967</td>\n",
       "      <td>655422996</td>\n",
       "      <td>1959-10-31</td>\n",
       "      <td>{'title': 'Farming Supervisor', 'key_skill': '...</td>\n",
       "      <td>{'city': 'Rachelstad', 'street_name': 'Lavinia...</td>\n",
       "      <td>{'cc_number': '6771-8925-2544-1683'}</td>\n",
       "      <td>{'plan': 'Starter', 'status': 'Active', 'payme...</td>\n",
       "      <td>65</td>\n",
       "    </tr>\n",
       "    <tr>\n",
       "      <th>3</th>\n",
       "      <td>1712</td>\n",
       "      <td>4dbfafca-72d2-40f6-9f7c-8e575d2f4ccf</td>\n",
       "      <td>bfHc0Qkg4o</td>\n",
       "      <td>Mitchell</td>\n",
       "      <td>Barton</td>\n",
       "      <td>mitchell.barton</td>\n",
       "      <td>mitchell.barton@email.com</td>\n",
       "      <td>https://robohash.org/fugalaborumtemporibus.png...</td>\n",
       "      <td>Genderqueer</td>\n",
       "      <td>+1-876 594-631-5079 x9273</td>\n",
       "      <td>908110257</td>\n",
       "      <td>1998-05-22</td>\n",
       "      <td>{'title': 'Customer Advertising Liaison', 'key...</td>\n",
       "      <td>{'city': 'Dickensshire', 'street_name': 'Shary...</td>\n",
       "      <td>{'cc_number': '4309-2540-4867-3910'}</td>\n",
       "      <td>{'plan': 'Basic', 'status': 'Idle', 'payment_m...</td>\n",
       "      <td>26</td>\n",
       "    </tr>\n",
       "    <tr>\n",
       "      <th>4</th>\n",
       "      <td>5797</td>\n",
       "      <td>f4dcecde-2d60-4d6c-9ff1-a0416a9940ab</td>\n",
       "      <td>GyELpzu8O7</td>\n",
       "      <td>Cherlyn</td>\n",
       "      <td>Harris</td>\n",
       "      <td>cherlyn.harris</td>\n",
       "      <td>cherlyn.harris@email.com</td>\n",
       "      <td>https://robohash.org/quaequaeratenim.png?size=...</td>\n",
       "      <td>Agender</td>\n",
       "      <td>+1-340 1-521-697-6972 x416</td>\n",
       "      <td>103806477</td>\n",
       "      <td>1994-12-04</td>\n",
       "      <td>{'title': 'Investor Banking Strategist', 'key_...</td>\n",
       "      <td>{'city': 'North Chesterport', 'street_name': '...</td>\n",
       "      <td>{'cc_number': '4742703080203'}</td>\n",
       "      <td>{'plan': 'Free Trial', 'status': 'Blocked', 'p...</td>\n",
       "      <td>30</td>\n",
       "    </tr>\n",
       "  </tbody>\n",
       "</table>\n",
       "</div>"
      ],
      "text/plain": [
       "     id                                   uid    password first_name  \\\n",
       "0  4025  a2928317-973f-4e70-8c70-6e4cce95594c  yLZibceXYj      Magen   \n",
       "1  6646  94c3898f-a546-4682-911a-61868d8310bd  mTGF61fYn3       Reed   \n",
       "2  2711  48a08b43-fc8f-445c-9dc2-a1576304a523  BSLFlWqnVE     Collen   \n",
       "3  1712  4dbfafca-72d2-40f6-9f7c-8e575d2f4ccf  bfHc0Qkg4o   Mitchell   \n",
       "4  5797  f4dcecde-2d60-4d6c-9ff1-a0416a9940ab  GyELpzu8O7    Cherlyn   \n",
       "\n",
       "  last_name         username                      email  \\\n",
       "0     Crist      magen.crist      magen.crist@email.com   \n",
       "1  Ondricka    reed.ondricka    reed.ondricka@email.com   \n",
       "2    Hansen    collen.hansen    collen.hansen@email.com   \n",
       "3    Barton  mitchell.barton  mitchell.barton@email.com   \n",
       "4    Harris   cherlyn.harris   cherlyn.harris@email.com   \n",
       "\n",
       "                                              avatar       gender  \\\n",
       "0  https://robohash.org/molestiasoccaecatiea.png?...       Female   \n",
       "1  https://robohash.org/quisidquae.png?size=300x3...         Male   \n",
       "2  https://robohash.org/seddolorestenetur.png?siz...   Non-binary   \n",
       "3  https://robohash.org/fugalaborumtemporibus.png...  Genderqueer   \n",
       "4  https://robohash.org/quaequaeratenim.png?size=...      Agender   \n",
       "\n",
       "                 phone_number social_insurance_number date_of_birth  \\\n",
       "0    +502 1-703-465-5668 x430               636962870    2002-06-24   \n",
       "1           +594 731-677-9681               459998340    1965-09-23   \n",
       "2    +683 491.374.1550 x45967               655422996    1959-10-31   \n",
       "3   +1-876 594-631-5079 x9273               908110257    1998-05-22   \n",
       "4  +1-340 1-521-697-6972 x416               103806477    1994-12-04   \n",
       "\n",
       "                                          employment  \\\n",
       "0  {'title': 'Central Marketing Technician', 'key...   \n",
       "1  {'title': 'Retail Specialist', 'key_skill': 'O...   \n",
       "2  {'title': 'Farming Supervisor', 'key_skill': '...   \n",
       "3  {'title': 'Customer Advertising Liaison', 'key...   \n",
       "4  {'title': 'Investor Banking Strategist', 'key_...   \n",
       "\n",
       "                                             address  \\\n",
       "0  {'city': 'Swiftton', 'street_name': 'Laureen P...   \n",
       "1  {'city': 'Vancetown', 'street_name': 'Kraig Is...   \n",
       "2  {'city': 'Rachelstad', 'street_name': 'Lavinia...   \n",
       "3  {'city': 'Dickensshire', 'street_name': 'Shary...   \n",
       "4  {'city': 'North Chesterport', 'street_name': '...   \n",
       "\n",
       "                            credit_card  \\\n",
       "0  {'cc_number': '4250-0445-5558-6533'}   \n",
       "1  {'cc_number': '4613-2824-5385-0138'}   \n",
       "2  {'cc_number': '6771-8925-2544-1683'}   \n",
       "3  {'cc_number': '4309-2540-4867-3910'}   \n",
       "4        {'cc_number': '4742703080203'}   \n",
       "\n",
       "                                        subscription  age  \n",
       "0  {'plan': 'Basic', 'status': 'Pending', 'paymen...   22  \n",
       "1  {'plan': 'Bronze', 'status': 'Blocked', 'payme...   59  \n",
       "2  {'plan': 'Starter', 'status': 'Active', 'payme...   65  \n",
       "3  {'plan': 'Basic', 'status': 'Idle', 'payment_m...   26  \n",
       "4  {'plan': 'Free Trial', 'status': 'Blocked', 'p...   30  "
      ]
     },
     "execution_count": 29,
     "metadata": {},
     "output_type": "execute_result"
    }
   ],
   "source": [
    "df.head()"
   ]
  },
  {
   "cell_type": "code",
   "execution_count": 38,
   "id": "98111752-e747-4b67-bd03-70d1d3ff66b9",
   "metadata": {},
   "outputs": [],
   "source": [
    "payment_methods = [i['payment_method'] for i in df['subscription']]"
   ]
  },
  {
   "cell_type": "code",
   "execution_count": 43,
   "id": "a542eabf-1741-412d-b21d-9f46d07ae858",
   "metadata": {},
   "outputs": [
    {
     "name": "stderr",
     "output_type": "stream",
     "text": [
      "/tmp/ipykernel_25818/2254587886.py:1: FutureWarning: \n",
      "\n",
      "The `errwidth` parameter is deprecated. And will be removed in v0.15.0. Pass `err_kws={'linewidth': 0}` instead.\n",
      "\n",
      "  ax = sns.barplot(data=payment_methods, errwidth=0)\n"
     ]
    },
    {
     "data": {
      "image/png": "[encoded data removed]",
      "text/plain": [
       "<Figure size 640x480 with 1 Axes>"
      ]
     },
     "metadata": {},
     "output_type": "display_data"
    }
   ],
   "source": [
    "ax = sns.barplot(data=payment_methods, errwidth=0)\n",
    "for i in ax.containers:\n",
    "    ax.bar_label(i,)"
   ]
  },
  {
   "cell_type": "markdown",
   "id": "b90dbd7b-ef4f-4508-a53d-54fcf5527058",
   "metadata": {},
   "source": [
    "# Q7) How many countries are represented in the dataset? "
   ]
  },
  {
   "cell_type": "code",
   "execution_count": 45,
   "id": "296066da-4f16-4030-8ee8-45cacaab164b",
   "metadata": {},
   "outputs": [],
   "source": [
    "countries = [i['country'] for i in df['address']]"
   ]
  },
  {
   "cell_type": "code",
   "execution_count": 46,
   "id": "7d629429-b9d1-4339-b83d-b108118d1ecf",
   "metadata": {},
   "outputs": [
    {
     "data": {
      "text/plain": [
       "['United States']"
      ]
     },
     "execution_count": 46,
     "metadata": {},
     "output_type": "execute_result"
    }
   ],
   "source": [
    "list(set(countries))"
   ]
  },
  {
   "cell_type": "code",
   "execution_count": 55,
   "id": "98514467-63ec-4d73-9519-27d579f50ab5",
   "metadata": {},
   "outputs": [],
   "source": [
    "# Only 1 country (USA) is represented"
   ]
  },
  {
   "cell_type": "markdown",
   "id": "80a2e3e0-fc57-41a6-8175-2b0cda81dbf8",
   "metadata": {},
   "source": [
    "# Q8) How many unique employment titles are represented in the dataset?"
   ]
  },
  {
   "cell_type": "code",
   "execution_count": 50,
   "id": "acecba85-5839-47c0-ad0e-1a4f431eebc4",
   "metadata": {},
   "outputs": [],
   "source": [
    "employment_titles = [i['title'] for i in df['employment']]\n",
    "employment_titles = list(set(employment_titles))"
   ]
  },
  {
   "cell_type": "code",
   "execution_count": 52,
   "id": "00ed8358-cdb5-48a8-aced-1597667409ce",
   "metadata": {},
   "outputs": [
    {
     "data": {
      "text/plain": [
       "99"
      ]
     },
     "execution_count": 52,
     "metadata": {},
     "output_type": "execute_result"
    }
   ],
   "source": [
    "len(employment_titles)"
   ]
  },
  {
   "cell_type": "code",
   "execution_count": 53,
   "id": "d5530996-7c58-49e9-a327-0f402bed770c",
   "metadata": {},
   "outputs": [],
   "source": [
    "# Total 99 unique employment titles are represented"
   ]
  },
  {
   "cell_type": "code",
   "execution_count": null,
   "id": "ee4261b5-02da-4150-9646-3fce10b85966",
   "metadata": {},
   "outputs": [],
   "source": []
  }
 ],
 "metadata": {
  "kernelspec": {
   "display_name": "Python 3 (ipykernel)",
   "language": "python",
   "name": "python3"
  },
  "language_info": {
   "codemirror_mode": {
    "name": "ipython",
    "version": 3
   },
   "file_extension": ".py",
   "mimetype": "text/x-python",
   "name": "python",
   "nbconvert_exporter": "python",
   "pygments_lexer": "ipython3",
   "version": "3.9.16"
  }
 },
 "nbformat": 4,
 "nbformat_minor": 5
}
