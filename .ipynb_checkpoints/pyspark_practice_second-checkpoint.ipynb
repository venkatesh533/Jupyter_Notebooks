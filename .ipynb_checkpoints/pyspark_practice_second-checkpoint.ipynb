{
 "cells": [
  {
   "cell_type": "code",
   "execution_count": 10,
   "id": "81919401-1b0b-40d9-b02c-2fadc635460a",
   "metadata": {},
   "outputs": [],
   "source": [
    "from pyspark.sql import SparkSession\n",
    "spark = SparkSession.builder.appName('practice_second').getOrCreate()"
   ]
  },
  {
   "cell_type": "code",
   "execution_count": 2,
   "id": "4afe5b6c-bd76-46bc-ae28-b1530fcca97e",
   "metadata": {},
   "outputs": [
    {
     "data": {
      "text/plain": [
       "'3.3.2'"
      ]
     },
     "execution_count": 2,
     "metadata": {},
     "output_type": "execute_result"
    }
   ],
   "source": [
    "spark.version"
   ]
  },
  {
   "cell_type": "markdown",
   "id": "be4569e9-bf33-45c8-9954-a062080f1ee5",
   "metadata": {},
   "source": [
    "# Missing Data"
   ]
  },
  {
   "cell_type": "code",
   "execution_count": 3,
   "id": "243d68c2-f7ab-4da0-98b0-936c0141d237",
   "metadata": {},
   "outputs": [
    {
     "name": "stderr",
     "output_type": "stream",
     "text": [
      "                                                                                \r"
     ]
    },
    {
     "name": "stdout",
     "output_type": "stream",
     "text": [
      "+-------+-------+------+----+\n",
      "|roll_no|   name|gender| age|\n",
      "+-------+-------+------+----+\n",
      "|      1| Aditya|  Male|  23|\n",
      "|      2| Ananya|Female|  19|\n",
      "|      3|  Arjun|  null|  21|\n",
      "|      4|Amrutha|Female|  18|\n",
      "|      5|   null|Female|  24|\n",
      "|      6|   Ajay|  Male|  20|\n",
      "|      7|   null|  null|null|\n",
      "|   null|   null|  null|  36|\n",
      "+-------+-------+------+----+\n",
      "\n"
     ]
    }
   ],
   "source": [
    "df = spark.read.option('header', True).csv('students.csv')\n",
    "df.show()"
   ]
  },
  {
   "cell_type": "code",
   "execution_count": 4,
   "id": "3f9903de-fce3-4185-9836-88f5bfd1cba7",
   "metadata": {},
   "outputs": [
    {
     "name": "stdout",
     "output_type": "stream",
     "text": [
      "+-------+-------+------+---+\n",
      "|roll_no|   name|gender|age|\n",
      "+-------+-------+------+---+\n",
      "|      1| Aditya|  Male| 23|\n",
      "|      2| Ananya|Female| 19|\n",
      "|      4|Amrutha|Female| 18|\n",
      "|      6|   Ajay|  Male| 20|\n",
      "+-------+-------+------+---+\n",
      "\n"
     ]
    }
   ],
   "source": [
    "# remove all rows which contain atleast one null value\n",
    "df.na.drop().show()"
   ]
  },
  {
   "cell_type": "code",
   "execution_count": 6,
   "id": "9a719b17-e20c-478b-9eda-4aebef2386e8",
   "metadata": {},
   "outputs": [
    {
     "name": "stdout",
     "output_type": "stream",
     "text": [
      "+-------+-------+------+---+\n",
      "|roll_no|   name|gender|age|\n",
      "+-------+-------+------+---+\n",
      "|      1| Aditya|  Male| 23|\n",
      "|      2| Ananya|Female| 19|\n",
      "|      3|  Arjun|  null| 21|\n",
      "|      4|Amrutha|Female| 18|\n",
      "|      5|   null|Female| 24|\n",
      "|      6|   Ajay|  Male| 20|\n",
      "+-------+-------+------+---+\n",
      "\n"
     ]
    }
   ],
   "source": [
    "# remove all rows with 2 null values\n",
    "df.na.drop(thresh=2).show()"
   ]
  },
  {
   "cell_type": "code",
   "execution_count": 7,
   "id": "487759fc-8894-4333-8699-d5a91b54399c",
   "metadata": {},
   "outputs": [
    {
     "name": "stdout",
     "output_type": "stream",
     "text": [
      "+-------+-------+------+---+\n",
      "|roll_no|   name|gender|age|\n",
      "+-------+-------+------+---+\n",
      "|      1| Aditya|  Male| 23|\n",
      "|      2| Ananya|Female| 19|\n",
      "|      4|Amrutha|Female| 18|\n",
      "|      5|   null|Female| 24|\n",
      "|      6|   Ajay|  Male| 20|\n",
      "+-------+-------+------+---+\n",
      "\n"
     ]
    }
   ],
   "source": [
    "# remove null values by column\n",
    "df.na.drop(subset=['gender']).show()"
   ]
  },
  {
   "cell_type": "code",
   "execution_count": 8,
   "id": "798a39ab-2d0a-4d40-ada4-34353022dbac",
   "metadata": {},
   "outputs": [
    {
     "name": "stdout",
     "output_type": "stream",
     "text": [
      "+----------+----------+----------+----------+\n",
      "|   roll_no|      name|    gender|       age|\n",
      "+----------+----------+----------+----------+\n",
      "|         1|    Aditya|      Male|        23|\n",
      "|         2|    Ananya|    Female|        19|\n",
      "|         3|     Arjun|Fill Value|        21|\n",
      "|         4|   Amrutha|    Female|        18|\n",
      "|         5|Fill Value|    Female|        24|\n",
      "|         6|      Ajay|      Male|        20|\n",
      "|         7|Fill Value|Fill Value|Fill Value|\n",
      "|Fill Value|Fill Value|Fill Value|        36|\n",
      "+----------+----------+----------+----------+\n",
      "\n"
     ]
    }
   ],
   "source": [
    "# fill null values with some value\n",
    "df.na.fill('Fill Value').show()"
   ]
  },
  {
   "cell_type": "code",
   "execution_count": 9,
   "id": "71c31d68-ffc8-475c-ab45-61c3f6507d5c",
   "metadata": {},
   "outputs": [
    {
     "name": "stdout",
     "output_type": "stream",
     "text": [
      "+-------+-------+------+----+\n",
      "|roll_no|   name|gender| age|\n",
      "+-------+-------+------+----+\n",
      "|      1| Aditya|  Male|  23|\n",
      "|      2| Ananya|Female|  19|\n",
      "|      3|  Arjun|  null|  21|\n",
      "|      4|Amrutha|Female|  18|\n",
      "|      5|   null|Female|  24|\n",
      "|      6|   Ajay|  Male|  20|\n",
      "|      7|   null|  null|null|\n",
      "|   null|   null|  null|  36|\n",
      "+-------+-------+------+----+\n",
      "\n"
     ]
    }
   ],
   "source": [
    "df.na.fill(0).show()"
   ]
  },
  {
   "cell_type": "markdown",
   "id": "022e0661-b1c1-4480-91b2-b931d79396e3",
   "metadata": {},
   "source": [
    "# Dataframes Dates and Timestamps"
   ]
  },
  {
   "cell_type": "code",
   "execution_count": 12,
   "id": "5b670d36-7184-49d1-998f-5b5482e1e01a",
   "metadata": {},
   "outputs": [
    {
     "name": "stderr",
     "output_type": "stream",
     "text": [
      "[Stage 8:>                                                          (0 + 1) / 1]\r"
     ]
    },
    {
     "name": "stdout",
     "output_type": "stream",
     "text": [
      "+---+---+-------+----------+-------------------+\n",
      "|  a|  b|      c|         d|                  e|\n",
      "+---+---+-------+----------+-------------------+\n",
      "|  1|2.0|string1|2000-01-01|2000-01-01 12:00:00|\n",
      "|  2|3.0|string2|2000-02-01|2000-01-02 12:00:00|\n",
      "|  4|5.0|string3|2000-03-01|2000-01-03 12:00:00|\n",
      "+---+---+-------+----------+-------------------+\n",
      "\n"
     ]
    },
    {
     "name": "stderr",
     "output_type": "stream",
     "text": [
      "                                                                                \r"
     ]
    }
   ],
   "source": [
    "from pyspark.sql import Row\n",
    "from datetime import datetime, date\n",
    "df = spark.createDataFrame([\n",
    "    Row(a=1, b=2., c='string1', d=date(2000, 1, 1), e=datetime(2000, 1, 1, 12, 0)),\n",
    "    Row(a=2, b=3., c='string2', d=date(2000, 2, 1), e=datetime(2000, 1, 2, 12, 0)),\n",
    "    Row(a=4, b=5., c='string3', d=date(2000, 3, 1), e=datetime(2000, 1, 3, 12, 0))\n",
    "])\n",
    "df.show()"
   ]
  },
  {
   "cell_type": "code",
   "execution_count": 14,
   "id": "8a6330ae-901b-487f-a278-235f8ab8d8dc",
   "metadata": {},
   "outputs": [
    {
     "name": "stdout",
     "output_type": "stream",
     "text": [
      "+-------+\n",
      "|year(e)|\n",
      "+-------+\n",
      "|   2000|\n",
      "|   2000|\n",
      "|   2000|\n",
      "+-------+\n",
      "\n"
     ]
    }
   ],
   "source": [
    "from pyspark.sql.functions import hour,month,year,dayofmonth,dayofweek,dayofyear\n",
    "df.select(year(df.e)).show()"
   ]
  },
  {
   "cell_type": "code",
   "execution_count": 15,
   "id": "bb744a52-8ef4-4634-bb21-1e6b35cd5e0b",
   "metadata": {},
   "outputs": [
    {
     "name": "stdout",
     "output_type": "stream",
     "text": [
      "+--------+\n",
      "|month(e)|\n",
      "+--------+\n",
      "|       1|\n",
      "|       1|\n",
      "|       1|\n",
      "+--------+\n",
      "\n"
     ]
    }
   ],
   "source": [
    "df.select(month(df.e)).show()"
   ]
  },
  {
   "cell_type": "code",
   "execution_count": null,
   "id": "7468466e-2734-4f21-b6d0-478a42cd7c94",
   "metadata": {},
   "outputs": [],
   "source": []
  }
 ],
 "metadata": {
  "kernelspec": {
   "display_name": "Python 3 (ipykernel)",
   "language": "python",
   "name": "python3"
  },
  "language_info": {
   "codemirror_mode": {
    "name": "ipython",
    "version": 3
   },
   "file_extension": ".py",
   "mimetype": "text/x-python",
   "name": "python",
   "nbconvert_exporter": "python",
   "pygments_lexer": "ipython3",
   "version": "3.9.16"
  }
 },
 "nbformat": 4,
 "nbformat_minor": 5
}
